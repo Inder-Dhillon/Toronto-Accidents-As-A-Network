{
  "nbformat": 4,
  "nbformat_minor": 0,
  "metadata": {
    "colab": {
      "name": "Project-Notebook.ipynb",
      "provenance": [],
      "collapsed_sections": [],
      "toc_visible": true
    },
    "kernelspec": {
      "name": "python3",
      "display_name": "Python 3"
    }
  },
  "cells": [
    {
      "cell_type": "code",
      "metadata": {
        "id": "xD1WHPAokT3S",
        "outputId": "3ca015af-dfdb-421e-97a6-74a3c98bcee4",
        "colab": {
          "base_uri": "https://localhost:8080/"
        }
      },
      "source": [
        "!sudo apt install libspatialindex-dev"
      ],
      "execution_count": 1,
      "outputs": [
        {
          "output_type": "stream",
          "text": [
            "Reading package lists... Done\n",
            "Building dependency tree       \n",
            "Reading state information... Done\n",
            "The following additional packages will be installed:\n",
            "  libspatialindex-c4v5 libspatialindex4v5\n",
            "The following NEW packages will be installed:\n",
            "  libspatialindex-c4v5 libspatialindex-dev libspatialindex4v5\n",
            "0 upgraded, 3 newly installed, 0 to remove and 11 not upgraded.\n",
            "Need to get 555 kB of archives.\n",
            "After this operation, 3,308 kB of additional disk space will be used.\n",
            "Get:1 http://archive.ubuntu.com/ubuntu bionic/universe amd64 libspatialindex4v5 amd64 1.8.5-5 [219 kB]\n",
            "Get:2 http://archive.ubuntu.com/ubuntu bionic/universe amd64 libspatialindex-c4v5 amd64 1.8.5-5 [51.7 kB]\n",
            "Get:3 http://archive.ubuntu.com/ubuntu bionic/universe amd64 libspatialindex-dev amd64 1.8.5-5 [285 kB]\n",
            "Fetched 555 kB in 2s (277 kB/s)\n",
            "debconf: unable to initialize frontend: Dialog\n",
            "debconf: (No usable dialog-like program is installed, so the dialog based frontend cannot be used. at /usr/share/perl5/Debconf/FrontEnd/Dialog.pm line 76, <> line 3.)\n",
            "debconf: falling back to frontend: Readline\n",
            "debconf: unable to initialize frontend: Readline\n",
            "debconf: (This frontend requires a controlling tty.)\n",
            "debconf: falling back to frontend: Teletype\n",
            "dpkg-preconfigure: unable to re-open stdin: \n",
            "Selecting previously unselected package libspatialindex4v5:amd64.\n",
            "(Reading database ... 144628 files and directories currently installed.)\n",
            "Preparing to unpack .../libspatialindex4v5_1.8.5-5_amd64.deb ...\n",
            "Unpacking libspatialindex4v5:amd64 (1.8.5-5) ...\n",
            "Selecting previously unselected package libspatialindex-c4v5:amd64.\n",
            "Preparing to unpack .../libspatialindex-c4v5_1.8.5-5_amd64.deb ...\n",
            "Unpacking libspatialindex-c4v5:amd64 (1.8.5-5) ...\n",
            "Selecting previously unselected package libspatialindex-dev:amd64.\n",
            "Preparing to unpack .../libspatialindex-dev_1.8.5-5_amd64.deb ...\n",
            "Unpacking libspatialindex-dev:amd64 (1.8.5-5) ...\n",
            "Setting up libspatialindex4v5:amd64 (1.8.5-5) ...\n",
            "Setting up libspatialindex-c4v5:amd64 (1.8.5-5) ...\n",
            "Setting up libspatialindex-dev:amd64 (1.8.5-5) ...\n",
            "Processing triggers for libc-bin (2.27-3ubuntu1.2) ...\n",
            "/sbin/ldconfig.real: /usr/local/lib/python3.6/dist-packages/ideep4py/lib/libmkldnn.so.0 is not a symbolic link\n",
            "\n"
          ],
          "name": "stdout"
        }
      ]
    },
    {
      "cell_type": "code",
      "metadata": {
        "id": "V6RQITBIvPRf",
        "outputId": "706dda40-c6b1-4d92-87b2-0cb3dcc76d64",
        "colab": {
          "base_uri": "https://localhost:8080/"
        }
      },
      "source": [
        "!wget https://github.com/Inder-Dhillon/Toronto-Accidents-As-A-Network/blob/main/accident.py?raw=true\n",
        "!mv accident.py\\?raw\\=true accident.py"
      ],
      "execution_count": 2,
      "outputs": [
        {
          "output_type": "stream",
          "text": [
            "--2020-11-06 17:57:08--  https://github.com/Inder-Dhillon/Toronto-Accidents-As-A-Network/blob/main/accident.py?raw=true\n",
            "Resolving github.com (github.com)... 52.69.186.44\n",
            "Connecting to github.com (github.com)|52.69.186.44|:443... connected.\n",
            "HTTP request sent, awaiting response... 302 Found\n",
            "Location: https://github.com/Inder-Dhillon/Toronto-Accidents-As-A-Network/raw/main/accident.py [following]\n",
            "--2020-11-06 17:57:08--  https://github.com/Inder-Dhillon/Toronto-Accidents-As-A-Network/raw/main/accident.py\n",
            "Reusing existing connection to github.com:443.\n",
            "HTTP request sent, awaiting response... 302 Found\n",
            "Location: https://raw.githubusercontent.com/Inder-Dhillon/Toronto-Accidents-As-A-Network/main/accident.py [following]\n",
            "--2020-11-06 17:57:08--  https://raw.githubusercontent.com/Inder-Dhillon/Toronto-Accidents-As-A-Network/main/accident.py\n",
            "Resolving raw.githubusercontent.com (raw.githubusercontent.com)... 151.101.0.133, 151.101.64.133, 151.101.128.133, ...\n",
            "Connecting to raw.githubusercontent.com (raw.githubusercontent.com)|151.101.0.133|:443... connected.\n",
            "HTTP request sent, awaiting response... 200 OK\n",
            "Length: 226 [text/plain]\n",
            "Saving to: ‘accident.py?raw=true’\n",
            "\n",
            "accident.py?raw=tru 100%[===================>]     226  --.-KB/s    in 0s      \n",
            "\n",
            "2020-11-06 17:57:08 (5.56 MB/s) - ‘accident.py?raw=true’ saved [226/226]\n",
            "\n"
          ],
          "name": "stdout"
        }
      ]
    },
    {
      "cell_type": "code",
      "metadata": {
        "id": "AYnlg1yhfOYb",
        "outputId": "4945c08f-5508-4d85-f24a-cf229074244d",
        "colab": {
          "base_uri": "https://localhost:8080/",
          "height": 1000
        }
      },
      "source": [
        "pip install osmnx"
      ],
      "execution_count": 3,
      "outputs": [
        {
          "output_type": "stream",
          "text": [
            "Collecting osmnx\n",
            "\u001b[?25l  Downloading https://files.pythonhosted.org/packages/ed/91/ad30e3ed4d16140f975f05adc13c1ca0146d61438dfabe01bf66025a44e5/osmnx-0.16.1-py2.py3-none-any.whl (87kB)\n",
            "\u001b[K     |████████████████████████████████| 92kB 2.2MB/s \n",
            "\u001b[?25hCollecting matplotlib>=3.3\n",
            "\u001b[?25l  Downloading https://files.pythonhosted.org/packages/cd/d6/8c4dfb23151d5a494c66ebbfdb5c8c433b44ec07fae52da5939fcda0943f/matplotlib-3.3.2-cp36-cp36m-manylinux1_x86_64.whl (11.6MB)\n",
            "\u001b[K     |████████████████████████████████| 11.6MB 348kB/s \n",
            "\u001b[?25hRequirement already satisfied: networkx>=2.5 in /usr/local/lib/python3.6/dist-packages (from osmnx) (2.5)\n",
            "Collecting Rtree>=0.9\n",
            "\u001b[?25l  Downloading https://files.pythonhosted.org/packages/56/6f/f1e91001d5ad9fa9bed65875152f5a1c7955c5763168cae309546e6e9fda/Rtree-0.9.4.tar.gz (62kB)\n",
            "\u001b[K     |████████████████████████████████| 71kB 8.9MB/s \n",
            "\u001b[?25hRequirement already satisfied: descartes>=1.1 in /usr/local/lib/python3.6/dist-packages (from osmnx) (1.1.0)\n",
            "Collecting numpy>=1.19\n",
            "\u001b[?25l  Downloading https://files.pythonhosted.org/packages/87/86/753182c9085ba4936c0076269a571613387cdb77ae2bf537448bfd63472c/numpy-1.19.4-cp36-cp36m-manylinux2010_x86_64.whl (14.5MB)\n",
            "\u001b[K     |████████████████████████████████| 14.5MB 317kB/s \n",
            "\u001b[?25hCollecting pyproj>=2.6\n",
            "\u001b[?25l  Downloading https://files.pythonhosted.org/packages/e4/ab/280e80a67cfc109d15428c0ec56391fc03a65857b7727cf4e6e6f99a4204/pyproj-3.0.0.post1-cp36-cp36m-manylinux2010_x86_64.whl (6.4MB)\n",
            "\u001b[K     |████████████████████████████████| 6.5MB 46.3MB/s \n",
            "\u001b[?25hRequirement already satisfied: Shapely>=1.7 in /usr/local/lib/python3.6/dist-packages (from osmnx) (1.7.1)\n",
            "Requirement already satisfied: pandas>=1.1 in /usr/local/lib/python3.6/dist-packages (from osmnx) (1.1.4)\n",
            "Collecting requests>=2.24\n",
            "\u001b[?25l  Downloading https://files.pythonhosted.org/packages/45/1e/0c169c6a5381e241ba7404532c16a21d86ab872c9bed8bdcd4c423954103/requests-2.24.0-py2.py3-none-any.whl (61kB)\n",
            "\u001b[K     |████████████████████████████████| 71kB 9.3MB/s \n",
            "\u001b[?25hCollecting geopandas>=0.8\n",
            "\u001b[?25l  Downloading https://files.pythonhosted.org/packages/f7/a4/e66aafbefcbb717813bf3a355c8c4fc3ed04ea1dd7feb2920f2f4f868921/geopandas-0.8.1-py2.py3-none-any.whl (962kB)\n",
            "\u001b[K     |████████████████████████████████| 972kB 47.7MB/s \n",
            "\u001b[?25hRequirement already satisfied: python-dateutil>=2.1 in /usr/local/lib/python3.6/dist-packages (from matplotlib>=3.3->osmnx) (2.8.1)\n",
            "Requirement already satisfied: pillow>=6.2.0 in /usr/local/lib/python3.6/dist-packages (from matplotlib>=3.3->osmnx) (7.0.0)\n",
            "Requirement already satisfied: kiwisolver>=1.0.1 in /usr/local/lib/python3.6/dist-packages (from matplotlib>=3.3->osmnx) (1.3.1)\n",
            "Requirement already satisfied: certifi>=2020.06.20 in /usr/local/lib/python3.6/dist-packages (from matplotlib>=3.3->osmnx) (2020.6.20)\n",
            "Requirement already satisfied: cycler>=0.10 in /usr/local/lib/python3.6/dist-packages (from matplotlib>=3.3->osmnx) (0.10.0)\n",
            "Requirement already satisfied: pyparsing!=2.0.4,!=2.1.2,!=2.1.6,>=2.0.3 in /usr/local/lib/python3.6/dist-packages (from matplotlib>=3.3->osmnx) (2.4.7)\n",
            "Requirement already satisfied: decorator>=4.3.0 in /usr/local/lib/python3.6/dist-packages (from networkx>=2.5->osmnx) (4.4.2)\n",
            "Requirement already satisfied: setuptools in /usr/local/lib/python3.6/dist-packages (from Rtree>=0.9->osmnx) (50.3.2)\n",
            "Requirement already satisfied: pytz>=2017.2 in /usr/local/lib/python3.6/dist-packages (from pandas>=1.1->osmnx) (2018.9)\n",
            "Requirement already satisfied: urllib3!=1.25.0,!=1.25.1,<1.26,>=1.21.1 in /usr/local/lib/python3.6/dist-packages (from requests>=2.24->osmnx) (1.24.3)\n",
            "Requirement already satisfied: idna<3,>=2.5 in /usr/local/lib/python3.6/dist-packages (from requests>=2.24->osmnx) (2.10)\n",
            "Requirement already satisfied: chardet<4,>=3.0.2 in /usr/local/lib/python3.6/dist-packages (from requests>=2.24->osmnx) (3.0.4)\n",
            "Collecting fiona\n",
            "\u001b[?25l  Downloading https://files.pythonhosted.org/packages/36/8b/e8b2c11bed5373c8e98edb85ce891b09aa1f4210fd451d0fb3696b7695a2/Fiona-1.8.17-cp36-cp36m-manylinux1_x86_64.whl (14.8MB)\n",
            "\u001b[K     |████████████████████████████████| 14.8MB 261kB/s \n",
            "\u001b[?25hRequirement already satisfied: six>=1.5 in /usr/local/lib/python3.6/dist-packages (from python-dateutil>=2.1->matplotlib>=3.3->osmnx) (1.15.0)\n",
            "Collecting cligj>=0.5\n",
            "  Downloading https://files.pythonhosted.org/packages/ba/06/e3440b1f2dc802d35f329f299ba96153e9fcbfdef75e17f4b61f79430c6a/cligj-0.7.0-py3-none-any.whl\n",
            "Requirement already satisfied: click<8,>=4.0 in /usr/local/lib/python3.6/dist-packages (from fiona->geopandas>=0.8->osmnx) (7.1.2)\n",
            "Collecting munch\n",
            "  Downloading https://files.pythonhosted.org/packages/cc/ab/85d8da5c9a45e072301beb37ad7f833cd344e04c817d97e0cc75681d248f/munch-2.5.0-py2.py3-none-any.whl\n",
            "Collecting click-plugins>=1.0\n",
            "  Downloading https://files.pythonhosted.org/packages/e9/da/824b92d9942f4e472702488857914bdd50f73021efea15b4cad9aca8ecef/click_plugins-1.1.1-py2.py3-none-any.whl\n",
            "Requirement already satisfied: attrs>=17 in /usr/local/lib/python3.6/dist-packages (from fiona->geopandas>=0.8->osmnx) (20.2.0)\n",
            "Building wheels for collected packages: Rtree\n",
            "  Building wheel for Rtree (setup.py) ... \u001b[?25l\u001b[?25hdone\n",
            "  Created wheel for Rtree: filename=Rtree-0.9.4-cp36-none-any.whl size=21770 sha256=1c07214d54d577d7431e30cbe944970a3a48e5d459ff1a1802af0691d2754734\n",
            "  Stored in directory: /root/.cache/pip/wheels/ff/20/c5/0004ef7acb96745ec99be960053902b0b414a2aa2dcad5834e\n",
            "Successfully built Rtree\n",
            "\u001b[31mERROR: tensorflow 2.3.0 has requirement numpy<1.19.0,>=1.16.0, but you'll have numpy 1.19.4 which is incompatible.\u001b[0m\n",
            "\u001b[31mERROR: google-colab 1.0.0 has requirement requests~=2.23.0, but you'll have requests 2.24.0 which is incompatible.\u001b[0m\n",
            "\u001b[31mERROR: datascience 0.10.6 has requirement folium==0.2.1, but you'll have folium 0.8.3 which is incompatible.\u001b[0m\n",
            "\u001b[31mERROR: albumentations 0.1.12 has requirement imgaug<0.2.7,>=0.2.5, but you'll have imgaug 0.2.9 which is incompatible.\u001b[0m\n",
            "Installing collected packages: numpy, matplotlib, Rtree, pyproj, requests, cligj, munch, click-plugins, fiona, geopandas, osmnx\n",
            "  Found existing installation: numpy 1.18.5\n",
            "    Uninstalling numpy-1.18.5:\n",
            "      Successfully uninstalled numpy-1.18.5\n",
            "  Found existing installation: matplotlib 3.2.2\n",
            "    Uninstalling matplotlib-3.2.2:\n",
            "      Successfully uninstalled matplotlib-3.2.2\n",
            "  Found existing installation: requests 2.23.0\n",
            "    Uninstalling requests-2.23.0:\n",
            "      Successfully uninstalled requests-2.23.0\n",
            "Successfully installed Rtree-0.9.4 click-plugins-1.1.1 cligj-0.7.0 fiona-1.8.17 geopandas-0.8.1 matplotlib-3.3.2 munch-2.5.0 numpy-1.19.4 osmnx-0.16.1 pyproj-3.0.0.post1 requests-2.24.0\n"
          ],
          "name": "stdout"
        },
        {
          "output_type": "display_data",
          "data": {
            "application/vnd.colab-display-data+json": {
              "pip_warning": {
                "packages": [
                  "matplotlib",
                  "mpl_toolkits",
                  "numpy"
                ]
              }
            }
          },
          "metadata": {
            "tags": []
          }
        }
      ]
    },
    {
      "cell_type": "code",
      "metadata": {
        "id": "8smi2CiKk21V"
      },
      "source": [
        "import osmnx as ox\n",
        "import networkx as nx\n",
        "import pandas as pd\n",
        "import json\n",
        "import geopandas as gpd\n",
        "import numpy as np\n",
        "import matplotlib.pyplot as plt\n",
        "from accident import ACCIDENT"
      ],
      "execution_count": 4,
      "outputs": []
    },
    {
      "cell_type": "code",
      "metadata": {
        "id": "o9LA_jCKmXCu"
      },
      "source": [
        "G = ox.graph_from_place('Toronto, Ontario, Canada', network_type='drive')"
      ],
      "execution_count": 5,
      "outputs": []
    },
    {
      "cell_type": "code",
      "metadata": {
        "id": "JpUFoqT5bPqZ"
      },
      "source": [
        "#G = ox.consolidate_intersections(ox.project_graph(G), tolerance=30, rebuild_graph=True)"
      ],
      "execution_count": 6,
      "outputs": []
    },
    {
      "cell_type": "code",
      "metadata": {
        "id": "CjD-XB5RmdD8",
        "outputId": "e9dd3ada-263e-4786-ef56-dec65726e868",
        "colab": {
          "base_uri": "https://localhost:8080/",
          "height": 425
        }
      },
      "source": [
        "ox.plot_graph(G, bgcolor='white', node_size=0.3, node_color=\"red\", edge_linewidth=0.4, edge_alpha=1, dpi=300, figsize=(10,10))"
      ],
      "execution_count": 7,
      "outputs": [
        {
          "output_type": "error",
          "ename": "ImportError",
          "evalue": "ignored",
          "traceback": [
            "\u001b[0;31m---------------------------------------------------------------------------\u001b[0m",
            "\u001b[0;31mImportError\u001b[0m                               Traceback (most recent call last)",
            "\u001b[0;32m/usr/local/lib/python3.6/dist-packages/IPython/core/formatters.py\u001b[0m in \u001b[0;36m__call__\u001b[0;34m(self, obj)\u001b[0m\n\u001b[1;32m    332\u001b[0m                 \u001b[0;32mpass\u001b[0m\u001b[0;34m\u001b[0m\u001b[0;34m\u001b[0m\u001b[0m\n\u001b[1;32m    333\u001b[0m             \u001b[0;32melse\u001b[0m\u001b[0;34m:\u001b[0m\u001b[0;34m\u001b[0m\u001b[0;34m\u001b[0m\u001b[0m\n\u001b[0;32m--> 334\u001b[0;31m                 \u001b[0;32mreturn\u001b[0m \u001b[0mprinter\u001b[0m\u001b[0;34m(\u001b[0m\u001b[0mobj\u001b[0m\u001b[0;34m)\u001b[0m\u001b[0;34m\u001b[0m\u001b[0;34m\u001b[0m\u001b[0m\n\u001b[0m\u001b[1;32m    335\u001b[0m             \u001b[0;31m# Finally look for special method names\u001b[0m\u001b[0;34m\u001b[0m\u001b[0;34m\u001b[0m\u001b[0;34m\u001b[0m\u001b[0m\n\u001b[1;32m    336\u001b[0m             \u001b[0mmethod\u001b[0m \u001b[0;34m=\u001b[0m \u001b[0mget_real_method\u001b[0m\u001b[0;34m(\u001b[0m\u001b[0mobj\u001b[0m\u001b[0;34m,\u001b[0m \u001b[0mself\u001b[0m\u001b[0;34m.\u001b[0m\u001b[0mprint_method\u001b[0m\u001b[0;34m)\u001b[0m\u001b[0;34m\u001b[0m\u001b[0;34m\u001b[0m\u001b[0m\n",
            "\u001b[0;32m/usr/local/lib/python3.6/dist-packages/IPython/core/pylabtools.py\u001b[0m in \u001b[0;36m<lambda>\u001b[0;34m(fig)\u001b[0m\n\u001b[1;32m    239\u001b[0m \u001b[0;34m\u001b[0m\u001b[0m\n\u001b[1;32m    240\u001b[0m     \u001b[0;32mif\u001b[0m \u001b[0;34m'png'\u001b[0m \u001b[0;32min\u001b[0m \u001b[0mformats\u001b[0m\u001b[0;34m:\u001b[0m\u001b[0;34m\u001b[0m\u001b[0;34m\u001b[0m\u001b[0m\n\u001b[0;32m--> 241\u001b[0;31m         \u001b[0mpng_formatter\u001b[0m\u001b[0;34m.\u001b[0m\u001b[0mfor_type\u001b[0m\u001b[0;34m(\u001b[0m\u001b[0mFigure\u001b[0m\u001b[0;34m,\u001b[0m \u001b[0;32mlambda\u001b[0m \u001b[0mfig\u001b[0m\u001b[0;34m:\u001b[0m \u001b[0mprint_figure\u001b[0m\u001b[0;34m(\u001b[0m\u001b[0mfig\u001b[0m\u001b[0;34m,\u001b[0m \u001b[0;34m'png'\u001b[0m\u001b[0;34m,\u001b[0m \u001b[0;34m**\u001b[0m\u001b[0mkwargs\u001b[0m\u001b[0;34m)\u001b[0m\u001b[0;34m)\u001b[0m\u001b[0;34m\u001b[0m\u001b[0;34m\u001b[0m\u001b[0m\n\u001b[0m\u001b[1;32m    242\u001b[0m     \u001b[0;32mif\u001b[0m \u001b[0;34m'retina'\u001b[0m \u001b[0;32min\u001b[0m \u001b[0mformats\u001b[0m \u001b[0;32mor\u001b[0m \u001b[0;34m'png2x'\u001b[0m \u001b[0;32min\u001b[0m \u001b[0mformats\u001b[0m\u001b[0;34m:\u001b[0m\u001b[0;34m\u001b[0m\u001b[0;34m\u001b[0m\u001b[0m\n\u001b[1;32m    243\u001b[0m         \u001b[0mpng_formatter\u001b[0m\u001b[0;34m.\u001b[0m\u001b[0mfor_type\u001b[0m\u001b[0;34m(\u001b[0m\u001b[0mFigure\u001b[0m\u001b[0;34m,\u001b[0m \u001b[0;32mlambda\u001b[0m \u001b[0mfig\u001b[0m\u001b[0;34m:\u001b[0m \u001b[0mretina_figure\u001b[0m\u001b[0;34m(\u001b[0m\u001b[0mfig\u001b[0m\u001b[0;34m,\u001b[0m \u001b[0;34m**\u001b[0m\u001b[0mkwargs\u001b[0m\u001b[0;34m)\u001b[0m\u001b[0;34m)\u001b[0m\u001b[0;34m\u001b[0m\u001b[0;34m\u001b[0m\u001b[0m\n",
            "\u001b[0;32m/usr/local/lib/python3.6/dist-packages/IPython/core/pylabtools.py\u001b[0m in \u001b[0;36mprint_figure\u001b[0;34m(fig, fmt, bbox_inches, **kwargs)\u001b[0m\n\u001b[1;32m    123\u001b[0m \u001b[0;34m\u001b[0m\u001b[0m\n\u001b[1;32m    124\u001b[0m     \u001b[0mbytes_io\u001b[0m \u001b[0;34m=\u001b[0m \u001b[0mBytesIO\u001b[0m\u001b[0;34m(\u001b[0m\u001b[0;34m)\u001b[0m\u001b[0;34m\u001b[0m\u001b[0;34m\u001b[0m\u001b[0m\n\u001b[0;32m--> 125\u001b[0;31m     \u001b[0mfig\u001b[0m\u001b[0;34m.\u001b[0m\u001b[0mcanvas\u001b[0m\u001b[0;34m.\u001b[0m\u001b[0mprint_figure\u001b[0m\u001b[0;34m(\u001b[0m\u001b[0mbytes_io\u001b[0m\u001b[0;34m,\u001b[0m \u001b[0;34m**\u001b[0m\u001b[0mkw\u001b[0m\u001b[0;34m)\u001b[0m\u001b[0;34m\u001b[0m\u001b[0;34m\u001b[0m\u001b[0m\n\u001b[0m\u001b[1;32m    126\u001b[0m     \u001b[0mdata\u001b[0m \u001b[0;34m=\u001b[0m \u001b[0mbytes_io\u001b[0m\u001b[0;34m.\u001b[0m\u001b[0mgetvalue\u001b[0m\u001b[0;34m(\u001b[0m\u001b[0;34m)\u001b[0m\u001b[0;34m\u001b[0m\u001b[0;34m\u001b[0m\u001b[0m\n\u001b[1;32m    127\u001b[0m     \u001b[0;32mif\u001b[0m \u001b[0mfmt\u001b[0m \u001b[0;34m==\u001b[0m \u001b[0;34m'svg'\u001b[0m\u001b[0;34m:\u001b[0m\u001b[0;34m\u001b[0m\u001b[0;34m\u001b[0m\u001b[0m\n",
            "\u001b[0;32m/usr/local/lib/python3.6/dist-packages/matplotlib/backend_bases.py\u001b[0m in \u001b[0;36mprint_figure\u001b[0;34m(self, filename, dpi, facecolor, edgecolor, orientation, format, bbox_inches, **kwargs)\u001b[0m\n\u001b[1;32m   2092\u001b[0m         \u001b[0mhardcopy\u001b[0m\u001b[0;34m.\u001b[0m\u001b[0;34m\u001b[0m\u001b[0;34m\u001b[0m\u001b[0m\n\u001b[1;32m   2093\u001b[0m \u001b[0;34m\u001b[0m\u001b[0m\n\u001b[0;32m-> 2094\u001b[0;31m         \u001b[0mParameters\u001b[0m\u001b[0;34m\u001b[0m\u001b[0;34m\u001b[0m\u001b[0m\n\u001b[0m\u001b[1;32m   2095\u001b[0m         \u001b[0;34m-\u001b[0m\u001b[0;34m-\u001b[0m\u001b[0;34m-\u001b[0m\u001b[0;34m-\u001b[0m\u001b[0;34m-\u001b[0m\u001b[0;34m-\u001b[0m\u001b[0;34m-\u001b[0m\u001b[0;34m-\u001b[0m\u001b[0;34m-\u001b[0m\u001b[0;34m-\u001b[0m\u001b[0;34m\u001b[0m\u001b[0;34m\u001b[0m\u001b[0m\n\u001b[1;32m   2096\u001b[0m         \u001b[0mfilename\u001b[0m \u001b[0;34m:\u001b[0m \u001b[0mstr\u001b[0m \u001b[0;32mor\u001b[0m \u001b[0mpath\u001b[0m\u001b[0;34m-\u001b[0m\u001b[0mlike\u001b[0m \u001b[0;32mor\u001b[0m \u001b[0mfile\u001b[0m\u001b[0;34m-\u001b[0m\u001b[0mlike\u001b[0m\u001b[0;34m\u001b[0m\u001b[0;34m\u001b[0m\u001b[0m\n",
            "\u001b[0;32m/usr/local/lib/python3.6/dist-packages/matplotlib/backend_bases.py\u001b[0m in \u001b[0;36m_get_renderer\u001b[0;34m(figure, print_method)\u001b[0m\n\u001b[1;32m   1558\u001b[0m             \u001b[0;32mreturn\u001b[0m \u001b[0mrenderer\u001b[0m\u001b[0;34m\u001b[0m\u001b[0;34m\u001b[0m\u001b[0m\n\u001b[1;32m   1559\u001b[0m         \u001b[0;32melse\u001b[0m\u001b[0;34m:\u001b[0m\u001b[0;34m\u001b[0m\u001b[0;34m\u001b[0m\u001b[0m\n\u001b[0;32m-> 1560\u001b[0;31m             raise RuntimeError(f\"{print_method} did not call Figure.draw, so \"\n\u001b[0m\u001b[1;32m   1561\u001b[0m                                f\"no renderer is available\")\n\u001b[1;32m   1562\u001b[0m         \u001b[0;32mfinally\u001b[0m\u001b[0;34m:\u001b[0m\u001b[0;34m\u001b[0m\u001b[0;34m\u001b[0m\u001b[0m\n",
            "\u001b[0;32m/usr/local/lib/python3.6/dist-packages/matplotlib/backends/backend_agg.py\u001b[0m in \u001b[0;36mprint_png\u001b[0;34m(self, filename_or_obj, metadata, pil_kwargs, *args, **kwargs)\u001b[0m\n\u001b[1;32m    503\u001b[0m         \u001b[0mpil_kwargs\u001b[0m \u001b[0;34m:\u001b[0m \u001b[0mdict\u001b[0m\u001b[0;34m,\u001b[0m \u001b[0moptional\u001b[0m\u001b[0;34m\u001b[0m\u001b[0;34m\u001b[0m\u001b[0m\n\u001b[1;32m    504\u001b[0m             \u001b[0mKeyword\u001b[0m \u001b[0marguments\u001b[0m \u001b[0mpassed\u001b[0m \u001b[0mto\u001b[0m\u001b[0;31m \u001b[0m\u001b[0;31m`\u001b[0m\u001b[0mPIL\u001b[0m\u001b[0;34m.\u001b[0m\u001b[0mImage\u001b[0m\u001b[0;34m.\u001b[0m\u001b[0mImage\u001b[0m\u001b[0;34m.\u001b[0m\u001b[0msave\u001b[0m\u001b[0;31m`\u001b[0m\u001b[0;34m.\u001b[0m\u001b[0;34m\u001b[0m\u001b[0;34m\u001b[0m\u001b[0m\n\u001b[0;32m--> 505\u001b[0;31m \u001b[0;34m\u001b[0m\u001b[0m\n\u001b[0m\u001b[1;32m    506\u001b[0m             \u001b[0mIf\u001b[0m \u001b[0mthe\u001b[0m \u001b[0;34m'pnginfo'\u001b[0m \u001b[0mkey\u001b[0m \u001b[0;32mis\u001b[0m \u001b[0mpresent\u001b[0m\u001b[0;34m,\u001b[0m \u001b[0mit\u001b[0m \u001b[0mcompletely\u001b[0m \u001b[0moverrides\u001b[0m\u001b[0;34m\u001b[0m\u001b[0;34m\u001b[0m\u001b[0m\n\u001b[1;32m    507\u001b[0m             \u001b[0;34m*\u001b[0m\u001b[0mmetadata\u001b[0m\u001b[0;34m*\u001b[0m\u001b[0;34m,\u001b[0m \u001b[0mincluding\u001b[0m \u001b[0mthe\u001b[0m \u001b[0mdefault\u001b[0m \u001b[0;34m'Software'\u001b[0m \u001b[0mkey\u001b[0m\u001b[0;34m.\u001b[0m\u001b[0;34m\u001b[0m\u001b[0;34m\u001b[0m\u001b[0m\n",
            "\u001b[0;31mImportError\u001b[0m: cannot import name '_png'"
          ]
        },
        {
          "output_type": "display_data",
          "data": {
            "text/plain": [
              "<Figure size 720x720 with 1 Axes>"
            ]
          },
          "metadata": {
            "tags": []
          }
        },
        {
          "output_type": "execute_result",
          "data": {
            "text/plain": [
              "(<Figure size 720x720 with 1 Axes>,\n",
              " <matplotlib.axes._subplots.AxesSubplot at 0x7f5c321c90f0>)"
            ]
          },
          "metadata": {
            "tags": []
          },
          "execution_count": 7
        }
      ]
    },
    {
      "cell_type": "code",
      "metadata": {
        "id": "YWepLdknxtdy",
        "outputId": "db6e04e8-b70f-446f-d939-e94037fe0ab2",
        "colab": {
          "base_uri": "https://localhost:8080/"
        }
      },
      "source": [
        "print(nx.info(G))"
      ],
      "execution_count": 8,
      "outputs": [
        {
          "output_type": "stream",
          "text": [
            "Name: \n",
            "Type: MultiDiGraph\n",
            "Number of nodes: 27440\n",
            "Number of edges: 73176\n",
            "Average in degree:   2.6668\n",
            "Average out degree:   2.6668\n"
          ],
          "name": "stdout"
        }
      ]
    },
    {
      "cell_type": "code",
      "metadata": {
        "id": "-3_QbPdZER1F",
        "outputId": "92138702-e0c3-48a0-f81f-9bf98af73275",
        "colab": {
          "base_uri": "https://localhost:8080/"
        }
      },
      "source": [
        "edges =  list(G.edges.data())\n",
        "edges[160]"
      ],
      "execution_count": 9,
      "outputs": [
        {
          "output_type": "execute_result",
          "data": {
            "text/plain": [
              "(3463503,\n",
              " 3463505,\n",
              " {'geometry': <shapely.geometry.linestring.LineString at 0x7f5c31d326d8>,\n",
              "  'highway': 'secondary',\n",
              "  'lanes': '4',\n",
              "  'length': 119.022,\n",
              "  'maxspeed': '50',\n",
              "  'name': 'Lawrence Avenue East',\n",
              "  'oneway': False,\n",
              "  'osmid': 163720386})"
            ]
          },
          "metadata": {
            "tags": []
          },
          "execution_count": 9
        }
      ]
    },
    {
      "cell_type": "code",
      "metadata": {
        "id": "emWQswCNFNyY",
        "outputId": "15228edb-50b9-4ed9-b226-93ff5061ca1f",
        "colab": {
          "base_uri": "https://localhost:8080/"
        }
      },
      "source": [
        "nodes =  list(G.nodes.data())\n",
        "nodes[1]"
      ],
      "execution_count": 10,
      "outputs": [
        {
          "output_type": "execute_result",
          "data": {
            "text/plain": [
              "(1497798, {'osmid': 1497798, 'x': -79.3355379, 'y': 43.7580721})"
            ]
          },
          "metadata": {
            "tags": []
          },
          "execution_count": 10
        }
      ]
    },
    {
      "cell_type": "code",
      "metadata": {
        "id": "r5RXydab4PfI",
        "outputId": "5ca074ad-528f-43a3-a8dd-b0ebbbb7b019",
        "colab": {
          "base_uri": "https://localhost:8080/"
        }
      },
      "source": [
        "nx.number_of_selfloops(G)"
      ],
      "execution_count": 11,
      "outputs": [
        {
          "output_type": "execute_result",
          "data": {
            "text/plain": [
              "762"
            ]
          },
          "metadata": {
            "tags": []
          },
          "execution_count": 11
        }
      ]
    },
    {
      "cell_type": "markdown",
      "metadata": {
        "id": "0P3zy3yCwCrd"
      },
      "source": [
        "## KSI Dataset:"
      ]
    },
    {
      "cell_type": "code",
      "metadata": {
        "id": "a-zNsJPtbLZ6"
      },
      "source": [
        "ksi_df = gpd.read_file(\"https://opendata.arcgis.com/datasets/cc17cc27ee5a4989b78d9a3810c6c007_0.geojson\")"
      ],
      "execution_count": 12,
      "outputs": []
    },
    {
      "cell_type": "code",
      "metadata": {
        "id": "enOLQkSgm8TQ",
        "outputId": "92bf50f3-be08-4e78-d2da-3e523818da5c",
        "colab": {
          "base_uri": "https://localhost:8080/",
          "height": 394
        }
      },
      "source": [
        "ksi_df.head()"
      ],
      "execution_count": 13,
      "outputs": [
        {
          "output_type": "execute_result",
          "data": {
            "text/html": [
              "<div>\n",
              "<style scoped>\n",
              "    .dataframe tbody tr th:only-of-type {\n",
              "        vertical-align: middle;\n",
              "    }\n",
              "\n",
              "    .dataframe tbody tr th {\n",
              "        vertical-align: top;\n",
              "    }\n",
              "\n",
              "    .dataframe thead th {\n",
              "        text-align: right;\n",
              "    }\n",
              "</style>\n",
              "<table border=\"1\" class=\"dataframe\">\n",
              "  <thead>\n",
              "    <tr style=\"text-align: right;\">\n",
              "      <th></th>\n",
              "      <th>Index_</th>\n",
              "      <th>ACCNUM</th>\n",
              "      <th>YEAR</th>\n",
              "      <th>DATE</th>\n",
              "      <th>TIME</th>\n",
              "      <th>HOUR</th>\n",
              "      <th>STREET1</th>\n",
              "      <th>STREET2</th>\n",
              "      <th>OFFSET</th>\n",
              "      <th>ROAD_CLASS</th>\n",
              "      <th>District</th>\n",
              "      <th>WardNum</th>\n",
              "      <th>Division</th>\n",
              "      <th>LATITUDE</th>\n",
              "      <th>LONGITUDE</th>\n",
              "      <th>LOCCOORD</th>\n",
              "      <th>ACCLOC</th>\n",
              "      <th>TRAFFCTL</th>\n",
              "      <th>VISIBILITY</th>\n",
              "      <th>LIGHT</th>\n",
              "      <th>RDSFCOND</th>\n",
              "      <th>ACCLASS</th>\n",
              "      <th>IMPACTYPE</th>\n",
              "      <th>INVTYPE</th>\n",
              "      <th>INVAGE</th>\n",
              "      <th>INJURY</th>\n",
              "      <th>FATAL_NO</th>\n",
              "      <th>INITDIR</th>\n",
              "      <th>VEHTYPE</th>\n",
              "      <th>MANOEUVER</th>\n",
              "      <th>DRIVACT</th>\n",
              "      <th>DRIVCOND</th>\n",
              "      <th>PEDTYPE</th>\n",
              "      <th>PEDACT</th>\n",
              "      <th>PEDCOND</th>\n",
              "      <th>CYCLISTYPE</th>\n",
              "      <th>CYCACT</th>\n",
              "      <th>CYCCOND</th>\n",
              "      <th>PEDESTRIAN</th>\n",
              "      <th>CYCLIST</th>\n",
              "      <th>AUTOMOBILE</th>\n",
              "      <th>MOTORCYCLE</th>\n",
              "      <th>TRUCK</th>\n",
              "      <th>TRSN_CITY_VEH</th>\n",
              "      <th>EMERG_VEH</th>\n",
              "      <th>PASSENGER</th>\n",
              "      <th>SPEEDING</th>\n",
              "      <th>AG_DRIV</th>\n",
              "      <th>REDLIGHT</th>\n",
              "      <th>ALCOHOL</th>\n",
              "      <th>DISABILITY</th>\n",
              "      <th>Hood_ID</th>\n",
              "      <th>Neighbourhood</th>\n",
              "      <th>ObjectId</th>\n",
              "      <th>geometry</th>\n",
              "    </tr>\n",
              "  </thead>\n",
              "  <tbody>\n",
              "    <tr>\n",
              "      <th>0</th>\n",
              "      <td>3389067</td>\n",
              "      <td>893184</td>\n",
              "      <td>2006</td>\n",
              "      <td>2006-01-01T05:00:00+00:00</td>\n",
              "      <td>236</td>\n",
              "      <td>2</td>\n",
              "      <td>WOODBINE AVE</td>\n",
              "      <td>O CONNOR DR</td>\n",
              "      <td>None</td>\n",
              "      <td>Major Arterial</td>\n",
              "      <td>Toronto and East York</td>\n",
              "      <td>19.0</td>\n",
              "      <td>54</td>\n",
              "      <td>43.699595</td>\n",
              "      <td>-79.318797</td>\n",
              "      <td>Intersection</td>\n",
              "      <td>Intersection Related</td>\n",
              "      <td>No Control</td>\n",
              "      <td>Clear</td>\n",
              "      <td>Dark</td>\n",
              "      <td>Wet</td>\n",
              "      <td>Non-Fatal Injury</td>\n",
              "      <td>Approaching</td>\n",
              "      <td>Passenger</td>\n",
              "      <td>50 to 54</td>\n",
              "      <td>Major</td>\n",
              "      <td>None</td>\n",
              "      <td>None</td>\n",
              "      <td>None</td>\n",
              "      <td>None</td>\n",
              "      <td>None</td>\n",
              "      <td>None</td>\n",
              "      <td>None</td>\n",
              "      <td>None</td>\n",
              "      <td>None</td>\n",
              "      <td>None</td>\n",
              "      <td>None</td>\n",
              "      <td>None</td>\n",
              "      <td>None</td>\n",
              "      <td>None</td>\n",
              "      <td>Yes</td>\n",
              "      <td>None</td>\n",
              "      <td>None</td>\n",
              "      <td>None</td>\n",
              "      <td>None</td>\n",
              "      <td>Yes</td>\n",
              "      <td>Yes</td>\n",
              "      <td>Yes</td>\n",
              "      <td>None</td>\n",
              "      <td>Yes</td>\n",
              "      <td>None</td>\n",
              "      <td>60</td>\n",
              "      <td>Woodbine-Lumsden (60)</td>\n",
              "      <td>1</td>\n",
              "      <td>POINT (-79.31880 43.69960)</td>\n",
              "    </tr>\n",
              "    <tr>\n",
              "      <th>1</th>\n",
              "      <td>3389068</td>\n",
              "      <td>893184</td>\n",
              "      <td>2006</td>\n",
              "      <td>2006-01-01T05:00:00+00:00</td>\n",
              "      <td>236</td>\n",
              "      <td>2</td>\n",
              "      <td>WOODBINE AVE</td>\n",
              "      <td>O CONNOR DR</td>\n",
              "      <td>None</td>\n",
              "      <td>Major Arterial</td>\n",
              "      <td>Toronto and East York</td>\n",
              "      <td>19.0</td>\n",
              "      <td>54</td>\n",
              "      <td>43.699595</td>\n",
              "      <td>-79.318797</td>\n",
              "      <td>Intersection</td>\n",
              "      <td>Intersection Related</td>\n",
              "      <td>No Control</td>\n",
              "      <td>Clear</td>\n",
              "      <td>Dark</td>\n",
              "      <td>Wet</td>\n",
              "      <td>Non-Fatal Injury</td>\n",
              "      <td>Approaching</td>\n",
              "      <td>Passenger</td>\n",
              "      <td>15 to 19</td>\n",
              "      <td>Minor</td>\n",
              "      <td>None</td>\n",
              "      <td>None</td>\n",
              "      <td>None</td>\n",
              "      <td>None</td>\n",
              "      <td>None</td>\n",
              "      <td>None</td>\n",
              "      <td>None</td>\n",
              "      <td>None</td>\n",
              "      <td>None</td>\n",
              "      <td>None</td>\n",
              "      <td>None</td>\n",
              "      <td>None</td>\n",
              "      <td>None</td>\n",
              "      <td>None</td>\n",
              "      <td>Yes</td>\n",
              "      <td>None</td>\n",
              "      <td>None</td>\n",
              "      <td>None</td>\n",
              "      <td>None</td>\n",
              "      <td>Yes</td>\n",
              "      <td>Yes</td>\n",
              "      <td>Yes</td>\n",
              "      <td>None</td>\n",
              "      <td>Yes</td>\n",
              "      <td>None</td>\n",
              "      <td>60</td>\n",
              "      <td>Woodbine-Lumsden (60)</td>\n",
              "      <td>2</td>\n",
              "      <td>POINT (-79.31880 43.69960)</td>\n",
              "    </tr>\n",
              "    <tr>\n",
              "      <th>2</th>\n",
              "      <td>3389069</td>\n",
              "      <td>893184</td>\n",
              "      <td>2006</td>\n",
              "      <td>2006-01-01T05:00:00+00:00</td>\n",
              "      <td>236</td>\n",
              "      <td>2</td>\n",
              "      <td>WOODBINE AVE</td>\n",
              "      <td>O CONNOR DR</td>\n",
              "      <td>None</td>\n",
              "      <td>Major Arterial</td>\n",
              "      <td>Toronto and East York</td>\n",
              "      <td>19.0</td>\n",
              "      <td>54</td>\n",
              "      <td>43.699595</td>\n",
              "      <td>-79.318797</td>\n",
              "      <td>Intersection</td>\n",
              "      <td>Intersection Related</td>\n",
              "      <td>No Control</td>\n",
              "      <td>Clear</td>\n",
              "      <td>Dark</td>\n",
              "      <td>Wet</td>\n",
              "      <td>Non-Fatal Injury</td>\n",
              "      <td>Approaching</td>\n",
              "      <td>Driver</td>\n",
              "      <td>55 to 59</td>\n",
              "      <td>Minor</td>\n",
              "      <td>None</td>\n",
              "      <td>North</td>\n",
              "      <td>Automobile, Station Wagon</td>\n",
              "      <td>Going Ahead</td>\n",
              "      <td>Driving Properly</td>\n",
              "      <td>Normal</td>\n",
              "      <td>None</td>\n",
              "      <td>None</td>\n",
              "      <td>None</td>\n",
              "      <td>None</td>\n",
              "      <td>None</td>\n",
              "      <td>None</td>\n",
              "      <td>None</td>\n",
              "      <td>None</td>\n",
              "      <td>Yes</td>\n",
              "      <td>None</td>\n",
              "      <td>None</td>\n",
              "      <td>None</td>\n",
              "      <td>None</td>\n",
              "      <td>Yes</td>\n",
              "      <td>Yes</td>\n",
              "      <td>Yes</td>\n",
              "      <td>None</td>\n",
              "      <td>Yes</td>\n",
              "      <td>None</td>\n",
              "      <td>60</td>\n",
              "      <td>Woodbine-Lumsden (60)</td>\n",
              "      <td>3</td>\n",
              "      <td>POINT (-79.31880 43.69960)</td>\n",
              "    </tr>\n",
              "    <tr>\n",
              "      <th>3</th>\n",
              "      <td>3389070</td>\n",
              "      <td>893184</td>\n",
              "      <td>2006</td>\n",
              "      <td>2006-01-01T05:00:00+00:00</td>\n",
              "      <td>236</td>\n",
              "      <td>2</td>\n",
              "      <td>WOODBINE AVE</td>\n",
              "      <td>O CONNOR DR</td>\n",
              "      <td>None</td>\n",
              "      <td>Major Arterial</td>\n",
              "      <td>Toronto and East York</td>\n",
              "      <td>19.0</td>\n",
              "      <td>54</td>\n",
              "      <td>43.699595</td>\n",
              "      <td>-79.318797</td>\n",
              "      <td>Intersection</td>\n",
              "      <td>Intersection Related</td>\n",
              "      <td>No Control</td>\n",
              "      <td>Clear</td>\n",
              "      <td>Dark</td>\n",
              "      <td>Wet</td>\n",
              "      <td>Non-Fatal Injury</td>\n",
              "      <td>Approaching</td>\n",
              "      <td>Passenger</td>\n",
              "      <td>20 to 24</td>\n",
              "      <td>Minor</td>\n",
              "      <td>None</td>\n",
              "      <td>None</td>\n",
              "      <td>None</td>\n",
              "      <td>None</td>\n",
              "      <td>None</td>\n",
              "      <td>None</td>\n",
              "      <td>None</td>\n",
              "      <td>None</td>\n",
              "      <td>None</td>\n",
              "      <td>None</td>\n",
              "      <td>None</td>\n",
              "      <td>None</td>\n",
              "      <td>None</td>\n",
              "      <td>None</td>\n",
              "      <td>Yes</td>\n",
              "      <td>None</td>\n",
              "      <td>None</td>\n",
              "      <td>None</td>\n",
              "      <td>None</td>\n",
              "      <td>Yes</td>\n",
              "      <td>Yes</td>\n",
              "      <td>Yes</td>\n",
              "      <td>None</td>\n",
              "      <td>Yes</td>\n",
              "      <td>None</td>\n",
              "      <td>60</td>\n",
              "      <td>Woodbine-Lumsden (60)</td>\n",
              "      <td>4</td>\n",
              "      <td>POINT (-79.31880 43.69960)</td>\n",
              "    </tr>\n",
              "    <tr>\n",
              "      <th>4</th>\n",
              "      <td>3389071</td>\n",
              "      <td>893184</td>\n",
              "      <td>2006</td>\n",
              "      <td>2006-01-01T05:00:00+00:00</td>\n",
              "      <td>236</td>\n",
              "      <td>2</td>\n",
              "      <td>WOODBINE AVE</td>\n",
              "      <td>O CONNOR DR</td>\n",
              "      <td>None</td>\n",
              "      <td>Major Arterial</td>\n",
              "      <td>Toronto and East York</td>\n",
              "      <td>19.0</td>\n",
              "      <td>54</td>\n",
              "      <td>43.699595</td>\n",
              "      <td>-79.318797</td>\n",
              "      <td>Intersection</td>\n",
              "      <td>Intersection Related</td>\n",
              "      <td>No Control</td>\n",
              "      <td>Clear</td>\n",
              "      <td>Dark</td>\n",
              "      <td>Wet</td>\n",
              "      <td>Non-Fatal Injury</td>\n",
              "      <td>Approaching</td>\n",
              "      <td>Passenger</td>\n",
              "      <td>15 to 19</td>\n",
              "      <td>Minor</td>\n",
              "      <td>None</td>\n",
              "      <td>None</td>\n",
              "      <td>None</td>\n",
              "      <td>None</td>\n",
              "      <td>None</td>\n",
              "      <td>None</td>\n",
              "      <td>None</td>\n",
              "      <td>None</td>\n",
              "      <td>None</td>\n",
              "      <td>None</td>\n",
              "      <td>None</td>\n",
              "      <td>None</td>\n",
              "      <td>None</td>\n",
              "      <td>None</td>\n",
              "      <td>Yes</td>\n",
              "      <td>None</td>\n",
              "      <td>None</td>\n",
              "      <td>None</td>\n",
              "      <td>None</td>\n",
              "      <td>Yes</td>\n",
              "      <td>Yes</td>\n",
              "      <td>Yes</td>\n",
              "      <td>None</td>\n",
              "      <td>Yes</td>\n",
              "      <td>None</td>\n",
              "      <td>60</td>\n",
              "      <td>Woodbine-Lumsden (60)</td>\n",
              "      <td>5</td>\n",
              "      <td>POINT (-79.31880 43.69960)</td>\n",
              "    </tr>\n",
              "  </tbody>\n",
              "</table>\n",
              "</div>"
            ],
            "text/plain": [
              "    Index_  ACCNUM  ...  ObjectId                    geometry\n",
              "0  3389067  893184  ...         1  POINT (-79.31880 43.69960)\n",
              "1  3389068  893184  ...         2  POINT (-79.31880 43.69960)\n",
              "2  3389069  893184  ...         3  POINT (-79.31880 43.69960)\n",
              "3  3389070  893184  ...         4  POINT (-79.31880 43.69960)\n",
              "4  3389071  893184  ...         5  POINT (-79.31880 43.69960)\n",
              "\n",
              "[5 rows x 55 columns]"
            ]
          },
          "metadata": {
            "tags": []
          },
          "execution_count": 13
        }
      ]
    },
    {
      "cell_type": "code",
      "metadata": {
        "id": "Gczd8d5npGNq"
      },
      "source": [
        "def assign_injury_index(injury:str):\n",
        "  if injury == \"Minimal\":\n",
        "    return 0.4\n",
        "  elif injury == \"Minor\":\n",
        "    return 0.6\n",
        "  elif injury == \"Major\":\n",
        "    return 0.8\n",
        "  elif injury == \"Fatal\":\n",
        "    return 1.0\n",
        "  else:\n",
        "    return 0.2"
      ],
      "execution_count": 14,
      "outputs": []
    },
    {
      "cell_type": "code",
      "metadata": {
        "id": "EGEApRuDpo6U"
      },
      "source": [
        "ksi_df[\"INJ_INDEX\"] = ksi_df[\"INJURY\"].apply(lambda x: assign_injury_index(x))"
      ],
      "execution_count": 15,
      "outputs": []
    },
    {
      "cell_type": "code",
      "metadata": {
        "id": "9BtTJ_MBrsW4"
      },
      "source": [
        "index_df = ksi_df[[\"ACCNUM\", \"INJ_INDEX\"]].groupby(by=\"ACCNUM\").sum()"
      ],
      "execution_count": 16,
      "outputs": []
    },
    {
      "cell_type": "markdown",
      "metadata": {
        "id": "OwCzEL2uFKMN"
      },
      "source": [
        "Combining Date and Hour to have one single column:"
      ]
    },
    {
      "cell_type": "code",
      "metadata": {
        "id": "9A-kthgDpe8J"
      },
      "source": [
        "ksi_df[\"DATE\"] = pd.to_datetime(ksi_df['DATE']).dt.floor(\"D\") + pd.to_timedelta(ksi_df[\"HOUR\"], unit=\"hour\")"
      ],
      "execution_count": 17,
      "outputs": []
    },
    {
      "cell_type": "markdown",
      "metadata": {
        "id": "5p9VQ-IDFG9V"
      },
      "source": [
        "Add datapoints to keep here:"
      ]
    },
    {
      "cell_type": "code",
      "metadata": {
        "id": "CMklmqGwCQae"
      },
      "source": [
        "cols_to_keep = [\"LATITUDE\", \"LONGITUDE\", \"ACCNUM\", \"DATE\", \"VISIBILITY\", \"LIGHT\",\t\"RDSFCOND\"]\n",
        "ksi_df = ksi_df[cols_to_keep]"
      ],
      "execution_count": 18,
      "outputs": []
    },
    {
      "cell_type": "markdown",
      "metadata": {
        "id": "ao8F1hV7FSlT"
      },
      "source": [
        "Counting fatalities using duplicate rows:"
      ]
    },
    {
      "cell_type": "code",
      "metadata": {
        "id": "_1UWcVfNAXIy"
      },
      "source": [
        "fatalities = ksi_df[\"ACCNUM\"].value_counts()\n",
        "ksi_df[\"FATALITIES\"] = ksi_df[\"ACCNUM\"].apply(lambda x : fatalities[x])"
      ],
      "execution_count": 19,
      "outputs": []
    },
    {
      "cell_type": "code",
      "metadata": {
        "id": "N8aDYqZGBmno"
      },
      "source": [
        "ksi_df = ksi_df.drop_duplicates()\n",
        "ksi_df.reset_index(drop=True, inplace=True)"
      ],
      "execution_count": 20,
      "outputs": []
    },
    {
      "cell_type": "code",
      "metadata": {
        "id": "HsyKXWFIvUT0"
      },
      "source": [
        "ksi_df[\"G_NODE\"]= ox.get_nearest_nodes(G, ksi_df[\"LONGITUDE\"], ksi_df[\"LATITUDE\"], method=\"balltree\")\n",
        "ksi_df.drop([\"LATITUDE\", \"LONGITUDE\"], axis=1, inplace=True)"
      ],
      "execution_count": 21,
      "outputs": []
    },
    {
      "cell_type": "code",
      "metadata": {
        "id": "I2gC_yqCsLMX"
      },
      "source": [
        "ksi_df = ksi_df.merge(index_df, on=\"ACCNUM\")"
      ],
      "execution_count": 22,
      "outputs": []
    },
    {
      "cell_type": "code",
      "metadata": {
        "id": "k1K4Xnd0CI7q",
        "outputId": "903bc6ea-9b60-4471-b530-d864f6c612a7",
        "colab": {
          "base_uri": "https://localhost:8080/",
          "height": 419
        }
      },
      "source": [
        "ksi_df = ksi_df.infer_objects()\n",
        "ksi_df"
      ],
      "execution_count": 23,
      "outputs": [
        {
          "output_type": "execute_result",
          "data": {
            "text/html": [
              "<div>\n",
              "<style scoped>\n",
              "    .dataframe tbody tr th:only-of-type {\n",
              "        vertical-align: middle;\n",
              "    }\n",
              "\n",
              "    .dataframe tbody tr th {\n",
              "        vertical-align: top;\n",
              "    }\n",
              "\n",
              "    .dataframe thead th {\n",
              "        text-align: right;\n",
              "    }\n",
              "</style>\n",
              "<table border=\"1\" class=\"dataframe\">\n",
              "  <thead>\n",
              "    <tr style=\"text-align: right;\">\n",
              "      <th></th>\n",
              "      <th>ACCNUM</th>\n",
              "      <th>DATE</th>\n",
              "      <th>VISIBILITY</th>\n",
              "      <th>LIGHT</th>\n",
              "      <th>RDSFCOND</th>\n",
              "      <th>FATALITIES</th>\n",
              "      <th>G_NODE</th>\n",
              "      <th>INJ_INDEX</th>\n",
              "    </tr>\n",
              "  </thead>\n",
              "  <tbody>\n",
              "    <tr>\n",
              "      <th>0</th>\n",
              "      <td>893184</td>\n",
              "      <td>2006-01-01 02:00:00+00:00</td>\n",
              "      <td>Clear</td>\n",
              "      <td>Dark</td>\n",
              "      <td>Wet</td>\n",
              "      <td>8</td>\n",
              "      <td>33771082</td>\n",
              "      <td>4.2</td>\n",
              "    </tr>\n",
              "    <tr>\n",
              "      <th>1</th>\n",
              "      <td>909646</td>\n",
              "      <td>2006-01-01 03:00:00+00:00</td>\n",
              "      <td>Snow</td>\n",
              "      <td>Dark, artificial</td>\n",
              "      <td>Slush</td>\n",
              "      <td>5</td>\n",
              "      <td>158754118</td>\n",
              "      <td>2.4</td>\n",
              "    </tr>\n",
              "    <tr>\n",
              "      <th>2</th>\n",
              "      <td>884090</td>\n",
              "      <td>2006-01-02 07:00:00+00:00</td>\n",
              "      <td>Other</td>\n",
              "      <td>Dark, artificial</td>\n",
              "      <td>Wet</td>\n",
              "      <td>2</td>\n",
              "      <td>21631723</td>\n",
              "      <td>1.0</td>\n",
              "    </tr>\n",
              "    <tr>\n",
              "      <th>3</th>\n",
              "      <td>885782</td>\n",
              "      <td>2006-01-04 19:00:00+00:00</td>\n",
              "      <td>Rain</td>\n",
              "      <td>Dark</td>\n",
              "      <td>Wet</td>\n",
              "      <td>2</td>\n",
              "      <td>26007459</td>\n",
              "      <td>1.0</td>\n",
              "    </tr>\n",
              "    <tr>\n",
              "      <th>4</th>\n",
              "      <td>882079</td>\n",
              "      <td>2006-01-06 22:00:00+00:00</td>\n",
              "      <td>Clear</td>\n",
              "      <td>Dark, artificial</td>\n",
              "      <td>Dry</td>\n",
              "      <td>2</td>\n",
              "      <td>259750208</td>\n",
              "      <td>1.0</td>\n",
              "    </tr>\n",
              "    <tr>\n",
              "      <th>...</th>\n",
              "      <td>...</td>\n",
              "      <td>...</td>\n",
              "      <td>...</td>\n",
              "      <td>...</td>\n",
              "      <td>...</td>\n",
              "      <td>...</td>\n",
              "      <td>...</td>\n",
              "      <td>...</td>\n",
              "    </tr>\n",
              "    <tr>\n",
              "      <th>5685</th>\n",
              "      <td>9002468442</td>\n",
              "      <td>2019-12-23 06:00:00+00:00</td>\n",
              "      <td>Clear</td>\n",
              "      <td>Dawn</td>\n",
              "      <td>Wet</td>\n",
              "      <td>2</td>\n",
              "      <td>86186677</td>\n",
              "      <td>1.0</td>\n",
              "    </tr>\n",
              "    <tr>\n",
              "      <th>5686</th>\n",
              "      <td>9002471073</td>\n",
              "      <td>2019-12-23 14:00:00+00:00</td>\n",
              "      <td>Clear</td>\n",
              "      <td>Daylight</td>\n",
              "      <td>Dry</td>\n",
              "      <td>3</td>\n",
              "      <td>287946845</td>\n",
              "      <td>1.8</td>\n",
              "    </tr>\n",
              "    <tr>\n",
              "      <th>5687</th>\n",
              "      <td>9002481518</td>\n",
              "      <td>2019-12-25 08:00:00+00:00</td>\n",
              "      <td>Clear</td>\n",
              "      <td>Daylight</td>\n",
              "      <td>Wet</td>\n",
              "      <td>2</td>\n",
              "      <td>1498033</td>\n",
              "      <td>1.0</td>\n",
              "    </tr>\n",
              "    <tr>\n",
              "      <th>5688</th>\n",
              "      <td>9002496688</td>\n",
              "      <td>2019-12-27 23:00:00+00:00</td>\n",
              "      <td>Clear</td>\n",
              "      <td>Dark, artificial</td>\n",
              "      <td>Dry</td>\n",
              "      <td>2</td>\n",
              "      <td>392516842</td>\n",
              "      <td>1.0</td>\n",
              "    </tr>\n",
              "    <tr>\n",
              "      <th>5689</th>\n",
              "      <td>9002500260</td>\n",
              "      <td>2019-12-28 15:00:00+00:00</td>\n",
              "      <td>Clear</td>\n",
              "      <td>Daylight</td>\n",
              "      <td>Dry</td>\n",
              "      <td>3</td>\n",
              "      <td>29603262</td>\n",
              "      <td>1.2</td>\n",
              "    </tr>\n",
              "  </tbody>\n",
              "</table>\n",
              "<p>5690 rows × 8 columns</p>\n",
              "</div>"
            ],
            "text/plain": [
              "          ACCNUM                      DATE  ...     G_NODE INJ_INDEX\n",
              "0         893184 2006-01-01 02:00:00+00:00  ...   33771082       4.2\n",
              "1         909646 2006-01-01 03:00:00+00:00  ...  158754118       2.4\n",
              "2         884090 2006-01-02 07:00:00+00:00  ...   21631723       1.0\n",
              "3         885782 2006-01-04 19:00:00+00:00  ...   26007459       1.0\n",
              "4         882079 2006-01-06 22:00:00+00:00  ...  259750208       1.0\n",
              "...          ...                       ...  ...        ...       ...\n",
              "5685  9002468442 2019-12-23 06:00:00+00:00  ...   86186677       1.0\n",
              "5686  9002471073 2019-12-23 14:00:00+00:00  ...  287946845       1.8\n",
              "5687  9002481518 2019-12-25 08:00:00+00:00  ...    1498033       1.0\n",
              "5688  9002496688 2019-12-27 23:00:00+00:00  ...  392516842       1.0\n",
              "5689  9002500260 2019-12-28 15:00:00+00:00  ...   29603262       1.2\n",
              "\n",
              "[5690 rows x 8 columns]"
            ]
          },
          "metadata": {
            "tags": []
          },
          "execution_count": 23
        }
      ]
    },
    {
      "cell_type": "markdown",
      "metadata": {
        "id": "MP0Hasxjc8A_"
      },
      "source": [
        "Creating column of accident objects:"
      ]
    },
    {
      "cell_type": "code",
      "metadata": {
        "id": "Kop4Cr22OxAU"
      },
      "source": [
        "ksi_df[\"ACCIDENT\"] = ksi_df.apply(lambda x: ACCIDENT(x[\"ACCNUM\"], x[\"DATE\"], x[\"VISIBILITY\"], x[\"LIGHT\"], x[\"RDSFCOND\"], x[\"FATALITIES\"], x[\"INJ_INDEX\"]), axis=1)"
      ],
      "execution_count": 24,
      "outputs": []
    },
    {
      "cell_type": "code",
      "metadata": {
        "id": "1X8Dc1BFXz3v",
        "outputId": "26138eed-4771-4374-f403-3dacb2bb072e",
        "colab": {
          "base_uri": "https://localhost:8080/",
          "height": 419
        }
      },
      "source": [
        "ksi_df"
      ],
      "execution_count": 25,
      "outputs": [
        {
          "output_type": "execute_result",
          "data": {
            "text/html": [
              "<div>\n",
              "<style scoped>\n",
              "    .dataframe tbody tr th:only-of-type {\n",
              "        vertical-align: middle;\n",
              "    }\n",
              "\n",
              "    .dataframe tbody tr th {\n",
              "        vertical-align: top;\n",
              "    }\n",
              "\n",
              "    .dataframe thead th {\n",
              "        text-align: right;\n",
              "    }\n",
              "</style>\n",
              "<table border=\"1\" class=\"dataframe\">\n",
              "  <thead>\n",
              "    <tr style=\"text-align: right;\">\n",
              "      <th></th>\n",
              "      <th>ACCNUM</th>\n",
              "      <th>DATE</th>\n",
              "      <th>VISIBILITY</th>\n",
              "      <th>LIGHT</th>\n",
              "      <th>RDSFCOND</th>\n",
              "      <th>FATALITIES</th>\n",
              "      <th>G_NODE</th>\n",
              "      <th>INJ_INDEX</th>\n",
              "      <th>ACCIDENT</th>\n",
              "    </tr>\n",
              "  </thead>\n",
              "  <tbody>\n",
              "    <tr>\n",
              "      <th>0</th>\n",
              "      <td>893184</td>\n",
              "      <td>2006-01-01 02:00:00+00:00</td>\n",
              "      <td>Clear</td>\n",
              "      <td>Dark</td>\n",
              "      <td>Wet</td>\n",
              "      <td>8</td>\n",
              "      <td>33771082</td>\n",
              "      <td>4.2</td>\n",
              "      <td>ACCIDENT(acc_id='893184', date=Timestamp('2006...</td>\n",
              "    </tr>\n",
              "    <tr>\n",
              "      <th>1</th>\n",
              "      <td>909646</td>\n",
              "      <td>2006-01-01 03:00:00+00:00</td>\n",
              "      <td>Snow</td>\n",
              "      <td>Dark, artificial</td>\n",
              "      <td>Slush</td>\n",
              "      <td>5</td>\n",
              "      <td>158754118</td>\n",
              "      <td>2.4</td>\n",
              "      <td>ACCIDENT(acc_id='909646', date=Timestamp('2006...</td>\n",
              "    </tr>\n",
              "    <tr>\n",
              "      <th>2</th>\n",
              "      <td>884090</td>\n",
              "      <td>2006-01-02 07:00:00+00:00</td>\n",
              "      <td>Other</td>\n",
              "      <td>Dark, artificial</td>\n",
              "      <td>Wet</td>\n",
              "      <td>2</td>\n",
              "      <td>21631723</td>\n",
              "      <td>1.0</td>\n",
              "      <td>ACCIDENT(acc_id='884090', date=Timestamp('2006...</td>\n",
              "    </tr>\n",
              "    <tr>\n",
              "      <th>3</th>\n",
              "      <td>885782</td>\n",
              "      <td>2006-01-04 19:00:00+00:00</td>\n",
              "      <td>Rain</td>\n",
              "      <td>Dark</td>\n",
              "      <td>Wet</td>\n",
              "      <td>2</td>\n",
              "      <td>26007459</td>\n",
              "      <td>1.0</td>\n",
              "      <td>ACCIDENT(acc_id='885782', date=Timestamp('2006...</td>\n",
              "    </tr>\n",
              "    <tr>\n",
              "      <th>4</th>\n",
              "      <td>882079</td>\n",
              "      <td>2006-01-06 22:00:00+00:00</td>\n",
              "      <td>Clear</td>\n",
              "      <td>Dark, artificial</td>\n",
              "      <td>Dry</td>\n",
              "      <td>2</td>\n",
              "      <td>259750208</td>\n",
              "      <td>1.0</td>\n",
              "      <td>ACCIDENT(acc_id='882079', date=Timestamp('2006...</td>\n",
              "    </tr>\n",
              "    <tr>\n",
              "      <th>...</th>\n",
              "      <td>...</td>\n",
              "      <td>...</td>\n",
              "      <td>...</td>\n",
              "      <td>...</td>\n",
              "      <td>...</td>\n",
              "      <td>...</td>\n",
              "      <td>...</td>\n",
              "      <td>...</td>\n",
              "      <td>...</td>\n",
              "    </tr>\n",
              "    <tr>\n",
              "      <th>5685</th>\n",
              "      <td>9002468442</td>\n",
              "      <td>2019-12-23 06:00:00+00:00</td>\n",
              "      <td>Clear</td>\n",
              "      <td>Dawn</td>\n",
              "      <td>Wet</td>\n",
              "      <td>2</td>\n",
              "      <td>86186677</td>\n",
              "      <td>1.0</td>\n",
              "      <td>ACCIDENT(acc_id='9002468442', date=Timestamp('...</td>\n",
              "    </tr>\n",
              "    <tr>\n",
              "      <th>5686</th>\n",
              "      <td>9002471073</td>\n",
              "      <td>2019-12-23 14:00:00+00:00</td>\n",
              "      <td>Clear</td>\n",
              "      <td>Daylight</td>\n",
              "      <td>Dry</td>\n",
              "      <td>3</td>\n",
              "      <td>287946845</td>\n",
              "      <td>1.8</td>\n",
              "      <td>ACCIDENT(acc_id='9002471073', date=Timestamp('...</td>\n",
              "    </tr>\n",
              "    <tr>\n",
              "      <th>5687</th>\n",
              "      <td>9002481518</td>\n",
              "      <td>2019-12-25 08:00:00+00:00</td>\n",
              "      <td>Clear</td>\n",
              "      <td>Daylight</td>\n",
              "      <td>Wet</td>\n",
              "      <td>2</td>\n",
              "      <td>1498033</td>\n",
              "      <td>1.0</td>\n",
              "      <td>ACCIDENT(acc_id='9002481518', date=Timestamp('...</td>\n",
              "    </tr>\n",
              "    <tr>\n",
              "      <th>5688</th>\n",
              "      <td>9002496688</td>\n",
              "      <td>2019-12-27 23:00:00+00:00</td>\n",
              "      <td>Clear</td>\n",
              "      <td>Dark, artificial</td>\n",
              "      <td>Dry</td>\n",
              "      <td>2</td>\n",
              "      <td>392516842</td>\n",
              "      <td>1.0</td>\n",
              "      <td>ACCIDENT(acc_id='9002496688', date=Timestamp('...</td>\n",
              "    </tr>\n",
              "    <tr>\n",
              "      <th>5689</th>\n",
              "      <td>9002500260</td>\n",
              "      <td>2019-12-28 15:00:00+00:00</td>\n",
              "      <td>Clear</td>\n",
              "      <td>Daylight</td>\n",
              "      <td>Dry</td>\n",
              "      <td>3</td>\n",
              "      <td>29603262</td>\n",
              "      <td>1.2</td>\n",
              "      <td>ACCIDENT(acc_id='9002500260', date=Timestamp('...</td>\n",
              "    </tr>\n",
              "  </tbody>\n",
              "</table>\n",
              "<p>5690 rows × 9 columns</p>\n",
              "</div>"
            ],
            "text/plain": [
              "          ACCNUM  ...                                           ACCIDENT\n",
              "0         893184  ...  ACCIDENT(acc_id='893184', date=Timestamp('2006...\n",
              "1         909646  ...  ACCIDENT(acc_id='909646', date=Timestamp('2006...\n",
              "2         884090  ...  ACCIDENT(acc_id='884090', date=Timestamp('2006...\n",
              "3         885782  ...  ACCIDENT(acc_id='885782', date=Timestamp('2006...\n",
              "4         882079  ...  ACCIDENT(acc_id='882079', date=Timestamp('2006...\n",
              "...          ...  ...                                                ...\n",
              "5685  9002468442  ...  ACCIDENT(acc_id='9002468442', date=Timestamp('...\n",
              "5686  9002471073  ...  ACCIDENT(acc_id='9002471073', date=Timestamp('...\n",
              "5687  9002481518  ...  ACCIDENT(acc_id='9002481518', date=Timestamp('...\n",
              "5688  9002496688  ...  ACCIDENT(acc_id='9002496688', date=Timestamp('...\n",
              "5689  9002500260  ...  ACCIDENT(acc_id='9002500260', date=Timestamp('...\n",
              "\n",
              "[5690 rows x 9 columns]"
            ]
          },
          "metadata": {
            "tags": []
          },
          "execution_count": 25
        }
      ]
    },
    {
      "cell_type": "markdown",
      "metadata": {
        "id": "zipY_xMjdFsh"
      },
      "source": [
        "Collapsing dataset to get list of accidents for each node:"
      ]
    },
    {
      "cell_type": "code",
      "metadata": {
        "id": "zGzESGyQZnMk"
      },
      "source": [
        "ksi_df = ksi_df.groupby('G_NODE')['ACCIDENT'].apply(list).reset_index(name='ACCIDENTS')"
      ],
      "execution_count": 26,
      "outputs": []
    },
    {
      "cell_type": "code",
      "metadata": {
        "id": "4AC4QBfBakc7",
        "outputId": "f5990805-81fc-4786-fc65-80eff9aef222",
        "colab": {
          "base_uri": "https://localhost:8080/",
          "height": 419
        }
      },
      "source": [
        "ksi_df"
      ],
      "execution_count": 27,
      "outputs": [
        {
          "output_type": "execute_result",
          "data": {
            "text/html": [
              "<div>\n",
              "<style scoped>\n",
              "    .dataframe tbody tr th:only-of-type {\n",
              "        vertical-align: middle;\n",
              "    }\n",
              "\n",
              "    .dataframe tbody tr th {\n",
              "        vertical-align: top;\n",
              "    }\n",
              "\n",
              "    .dataframe thead th {\n",
              "        text-align: right;\n",
              "    }\n",
              "</style>\n",
              "<table border=\"1\" class=\"dataframe\">\n",
              "  <thead>\n",
              "    <tr style=\"text-align: right;\">\n",
              "      <th></th>\n",
              "      <th>G_NODE</th>\n",
              "      <th>ACCIDENTS</th>\n",
              "    </tr>\n",
              "  </thead>\n",
              "  <tbody>\n",
              "    <tr>\n",
              "      <th>0</th>\n",
              "      <td>1497983</td>\n",
              "      <td>[ACCIDENT(acc_id='7000804511', date=Timestamp(...</td>\n",
              "    </tr>\n",
              "    <tr>\n",
              "      <th>1</th>\n",
              "      <td>1498018</td>\n",
              "      <td>[ACCIDENT(acc_id='1126375', date=Timestamp('20...</td>\n",
              "    </tr>\n",
              "    <tr>\n",
              "      <th>2</th>\n",
              "      <td>1498033</td>\n",
              "      <td>[ACCIDENT(acc_id='1152152', date=Timestamp('20...</td>\n",
              "    </tr>\n",
              "    <tr>\n",
              "      <th>3</th>\n",
              "      <td>1498042</td>\n",
              "      <td>[ACCIDENT(acc_id='1298032', date=Timestamp('20...</td>\n",
              "    </tr>\n",
              "    <tr>\n",
              "      <th>4</th>\n",
              "      <td>1498116</td>\n",
              "      <td>[ACCIDENT(acc_id='7001054440', date=Timestamp(...</td>\n",
              "    </tr>\n",
              "    <tr>\n",
              "      <th>...</th>\n",
              "      <td>...</td>\n",
              "      <td>...</td>\n",
              "    </tr>\n",
              "    <tr>\n",
              "      <th>3704</th>\n",
              "      <td>7620170933</td>\n",
              "      <td>[ACCIDENT(acc_id='1025433', date=Timestamp('20...</td>\n",
              "    </tr>\n",
              "    <tr>\n",
              "      <th>3705</th>\n",
              "      <td>7870612785</td>\n",
              "      <td>[ACCIDENT(acc_id='7002059893', date=Timestamp(...</td>\n",
              "    </tr>\n",
              "    <tr>\n",
              "      <th>3706</th>\n",
              "      <td>7870612852</td>\n",
              "      <td>[ACCIDENT(acc_id='922700', date=Timestamp('200...</td>\n",
              "    </tr>\n",
              "    <tr>\n",
              "      <th>3707</th>\n",
              "      <td>7891518884</td>\n",
              "      <td>[ACCIDENT(acc_id='143084786', date=Timestamp('...</td>\n",
              "    </tr>\n",
              "    <tr>\n",
              "      <th>3708</th>\n",
              "      <td>8043199175</td>\n",
              "      <td>[ACCIDENT(acc_id='6002100980', date=Timestamp(...</td>\n",
              "    </tr>\n",
              "  </tbody>\n",
              "</table>\n",
              "<p>3709 rows × 2 columns</p>\n",
              "</div>"
            ],
            "text/plain": [
              "          G_NODE                                          ACCIDENTS\n",
              "0        1497983  [ACCIDENT(acc_id='7000804511', date=Timestamp(...\n",
              "1        1498018  [ACCIDENT(acc_id='1126375', date=Timestamp('20...\n",
              "2        1498033  [ACCIDENT(acc_id='1152152', date=Timestamp('20...\n",
              "3        1498042  [ACCIDENT(acc_id='1298032', date=Timestamp('20...\n",
              "4        1498116  [ACCIDENT(acc_id='7001054440', date=Timestamp(...\n",
              "...          ...                                                ...\n",
              "3704  7620170933  [ACCIDENT(acc_id='1025433', date=Timestamp('20...\n",
              "3705  7870612785  [ACCIDENT(acc_id='7002059893', date=Timestamp(...\n",
              "3706  7870612852  [ACCIDENT(acc_id='922700', date=Timestamp('200...\n",
              "3707  7891518884  [ACCIDENT(acc_id='143084786', date=Timestamp('...\n",
              "3708  8043199175  [ACCIDENT(acc_id='6002100980', date=Timestamp(...\n",
              "\n",
              "[3709 rows x 2 columns]"
            ]
          },
          "metadata": {
            "tags": []
          },
          "execution_count": 27
        }
      ]
    },
    {
      "cell_type": "markdown",
      "metadata": {
        "id": "D9qTGMzQdLsN"
      },
      "source": [
        "Converting dataset to dict to set node attributes:"
      ]
    },
    {
      "cell_type": "code",
      "metadata": {
        "id": "UvwTbNXGbbVX"
      },
      "source": [
        "attr = ksi_df.set_index('G_NODE')['ACCIDENTS'].to_dict()"
      ],
      "execution_count": 28,
      "outputs": []
    },
    {
      "cell_type": "code",
      "metadata": {
        "id": "9MwUwxLSTuCL"
      },
      "source": [
        "nx.set_node_attributes(G, [], \"accident_list\")\n",
        "nx.set_node_attributes(G, attr, \"accident_list\")"
      ],
      "execution_count": 29,
      "outputs": []
    },
    {
      "cell_type": "markdown",
      "metadata": {
        "id": "WOpmgeJSd2lI"
      },
      "source": [
        "Example Nodes:"
      ]
    },
    {
      "cell_type": "code",
      "metadata": {
        "id": "RgjrVChKVyGL",
        "outputId": "84d4abf0-307d-431a-fe95-26c32635b58a",
        "colab": {
          "base_uri": "https://localhost:8080/"
        }
      },
      "source": [
        "G.nodes[1497793]"
      ],
      "execution_count": 30,
      "outputs": [
        {
          "output_type": "execute_result",
          "data": {
            "text/plain": [
              "{'accident_list': [],\n",
              " 'highway': 'motorway_junction',\n",
              " 'osmid': 1497793,\n",
              " 'ref': '14',\n",
              " 'x': -79.3346901,\n",
              " 'y': 43.7555309}"
            ]
          },
          "metadata": {
            "tags": []
          },
          "execution_count": 30
        }
      ]
    },
    {
      "cell_type": "code",
      "metadata": {
        "id": "YPaDipvDdxWy",
        "outputId": "8f1838c6-513d-4145-9a84-6ead8e9d1cc2",
        "colab": {
          "base_uri": "https://localhost:8080/"
        }
      },
      "source": [
        "G.nodes[158754118]"
      ],
      "execution_count": 31,
      "outputs": [
        {
          "output_type": "execute_result",
          "data": {
            "text/plain": [
              "{'accident_list': [ACCIDENT(acc_id='909646', date=Timestamp('2006-01-01 03:00:00+0000', tz='UTC'), visibility='Snow', light='Dark, artificial', road_conditions='Slush', fatalities=5, inj_index=2.4000000000000004)],\n",
              " 'osmid': 158754118,\n",
              " 'x': -79.3162254,\n",
              " 'y': 43.6849494}"
            ]
          },
          "metadata": {
            "tags": []
          },
          "execution_count": 31
        }
      ]
    },
    {
      "cell_type": "code",
      "metadata": {
        "id": "Z6JX09wxnYjF"
      },
      "source": [
        ""
      ],
      "execution_count": 31,
      "outputs": []
    }
  ]
}