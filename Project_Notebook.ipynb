{
  "nbformat": 4,
  "nbformat_minor": 0,
  "metadata": {
    "colab": {
      "name": "Project-Notebook.ipynb",
      "provenance": [],
      "collapsed_sections": [],
      "toc_visible": true
    },
    "kernelspec": {
      "name": "python3",
      "display_name": "Python 3"
    }
  },
  "cells": [
    {
      "cell_type": "code",
      "metadata": {
        "id": "xD1WHPAokT3S"
      },
      "source": [
        "!sudo apt install libspatialindex-dev"
      ],
      "execution_count": null,
      "outputs": []
    },
    {
      "cell_type": "code",
      "metadata": {
        "id": "V6RQITBIvPRf",
        "outputId": "6a3a3bde-f7f2-405c-e973-2ee7932af80d",
        "colab": {
          "base_uri": "https://localhost:8080/"
        }
      },
      "source": [
        "!wget https://github.com/Inder-Dhillon/Toronto-Accidents-As-A-Network/blob/main/accident.py?raw=true\n",
        "!mv accident.py\\?raw\\=true accident.py"
      ],
      "execution_count": null,
      "outputs": [
        {
          "output_type": "stream",
          "text": [
            "--2020-10-31 17:38:46--  https://github.com/Inder-Dhillon/Toronto-Accidents-As-A-Network/blob/main/accident.py?raw=true\n",
            "Resolving github.com (github.com)... 140.82.112.4\n",
            "Connecting to github.com (github.com)|140.82.112.4|:443... connected.\n",
            "HTTP request sent, awaiting response... 302 Found\n",
            "Location: https://github.com/Inder-Dhillon/Toronto-Accidents-As-A-Network/raw/main/accident.py [following]\n",
            "--2020-10-31 17:38:47--  https://github.com/Inder-Dhillon/Toronto-Accidents-As-A-Network/raw/main/accident.py\n",
            "Reusing existing connection to github.com:443.\n",
            "HTTP request sent, awaiting response... 302 Found\n",
            "Location: https://raw.githubusercontent.com/Inder-Dhillon/Toronto-Accidents-As-A-Network/main/accident.py [following]\n",
            "--2020-10-31 17:38:47--  https://raw.githubusercontent.com/Inder-Dhillon/Toronto-Accidents-As-A-Network/main/accident.py\n",
            "Resolving raw.githubusercontent.com (raw.githubusercontent.com)... 151.101.0.133, 151.101.64.133, 151.101.128.133, ...\n",
            "Connecting to raw.githubusercontent.com (raw.githubusercontent.com)|151.101.0.133|:443... connected.\n",
            "HTTP request sent, awaiting response... 200 OK\n",
            "Length: 204 [text/plain]\n",
            "Saving to: ‘accident.py?raw=true’\n",
            "\n",
            "accident.py?raw=tru 100%[===================>]     204  --.-KB/s    in 0s      \n",
            "\n",
            "2020-10-31 17:38:47 (8.38 MB/s) - ‘accident.py?raw=true’ saved [204/204]\n",
            "\n"
          ],
          "name": "stdout"
        }
      ]
    },
    {
      "cell_type": "code",
      "metadata": {
        "id": "AYnlg1yhfOYb",
        "outputId": "0db55dd9-d8a4-4f87-ec9b-4199417ea25f",
        "colab": {
          "base_uri": "https://localhost:8080/",
          "height": 1000
        }
      },
      "source": [
        "pip install osmnx"
      ],
      "execution_count": null,
      "outputs": [
        {
          "output_type": "stream",
          "text": [
            "Collecting osmnx\n",
            "\u001b[?25l  Downloading https://files.pythonhosted.org/packages/ed/91/ad30e3ed4d16140f975f05adc13c1ca0146d61438dfabe01bf66025a44e5/osmnx-0.16.1-py2.py3-none-any.whl (87kB)\n",
            "\u001b[K     |████████████████████████████████| 92kB 2.7MB/s \n",
            "\u001b[?25hCollecting requests>=2.24\n",
            "\u001b[?25l  Downloading https://files.pythonhosted.org/packages/45/1e/0c169c6a5381e241ba7404532c16a21d86ab872c9bed8bdcd4c423954103/requests-2.24.0-py2.py3-none-any.whl (61kB)\n",
            "\u001b[K     |████████████████████████████████| 71kB 5.1MB/s \n",
            "\u001b[?25hCollecting matplotlib>=3.3\n",
            "\u001b[?25l  Downloading https://files.pythonhosted.org/packages/cd/d6/8c4dfb23151d5a494c66ebbfdb5c8c433b44ec07fae52da5939fcda0943f/matplotlib-3.3.2-cp36-cp36m-manylinux1_x86_64.whl (11.6MB)\n",
            "\u001b[K     |████████████████████████████████| 11.6MB 8.5MB/s \n",
            "\u001b[?25hRequirement already satisfied: Shapely>=1.7 in /usr/local/lib/python3.6/dist-packages (from osmnx) (1.7.1)\n",
            "Requirement already satisfied: pandas>=1.1 in /usr/local/lib/python3.6/dist-packages (from osmnx) (1.1.3)\n",
            "Requirement already satisfied: descartes>=1.1 in /usr/local/lib/python3.6/dist-packages (from osmnx) (1.1.0)\n",
            "Collecting numpy>=1.19\n",
            "\u001b[?25l  Downloading https://files.pythonhosted.org/packages/0e/f7/a7d7e0de99a7b43bd95aaddcf29e65b5a185ca389dd1329a53cc986edc38/numpy-1.19.3-cp36-cp36m-manylinux2010_x86_64.whl (14.9MB)\n",
            "\u001b[K     |████████████████████████████████| 14.9MB 311kB/s \n",
            "\u001b[?25hRequirement already satisfied: networkx>=2.5 in /usr/local/lib/python3.6/dist-packages (from osmnx) (2.5)\n",
            "Collecting Rtree>=0.9\n",
            "\u001b[?25l  Downloading https://files.pythonhosted.org/packages/56/6f/f1e91001d5ad9fa9bed65875152f5a1c7955c5763168cae309546e6e9fda/Rtree-0.9.4.tar.gz (62kB)\n",
            "\u001b[K     |████████████████████████████████| 71kB 7.8MB/s \n",
            "\u001b[?25hCollecting geopandas>=0.8\n",
            "\u001b[?25l  Downloading https://files.pythonhosted.org/packages/f7/a4/e66aafbefcbb717813bf3a355c8c4fc3ed04ea1dd7feb2920f2f4f868921/geopandas-0.8.1-py2.py3-none-any.whl (962kB)\n",
            "\u001b[K     |████████████████████████████████| 972kB 37.7MB/s \n",
            "\u001b[?25hCollecting pyproj>=2.6\n",
            "\u001b[?25l  Downloading https://files.pythonhosted.org/packages/e5/c3/071e080230ac4b6c64f1a2e2f9161c9737a2bc7b683d2c90b024825000c0/pyproj-2.6.1.post1-cp36-cp36m-manylinux2010_x86_64.whl (10.9MB)\n",
            "\u001b[K     |████████████████████████████████| 10.9MB 32.1MB/s \n",
            "\u001b[?25hRequirement already satisfied: urllib3!=1.25.0,!=1.25.1,<1.26,>=1.21.1 in /usr/local/lib/python3.6/dist-packages (from requests>=2.24->osmnx) (1.24.3)\n",
            "Requirement already satisfied: certifi>=2017.4.17 in /usr/local/lib/python3.6/dist-packages (from requests>=2.24->osmnx) (2020.6.20)\n",
            "Requirement already satisfied: chardet<4,>=3.0.2 in /usr/local/lib/python3.6/dist-packages (from requests>=2.24->osmnx) (3.0.4)\n",
            "Requirement already satisfied: idna<3,>=2.5 in /usr/local/lib/python3.6/dist-packages (from requests>=2.24->osmnx) (2.10)\n",
            "Requirement already satisfied: pyparsing!=2.0.4,!=2.1.2,!=2.1.6,>=2.0.3 in /usr/local/lib/python3.6/dist-packages (from matplotlib>=3.3->osmnx) (2.4.7)\n",
            "Requirement already satisfied: kiwisolver>=1.0.1 in /usr/local/lib/python3.6/dist-packages (from matplotlib>=3.3->osmnx) (1.2.0)\n",
            "Requirement already satisfied: cycler>=0.10 in /usr/local/lib/python3.6/dist-packages (from matplotlib>=3.3->osmnx) (0.10.0)\n",
            "Requirement already satisfied: python-dateutil>=2.1 in /usr/local/lib/python3.6/dist-packages (from matplotlib>=3.3->osmnx) (2.8.1)\n",
            "Requirement already satisfied: pillow>=6.2.0 in /usr/local/lib/python3.6/dist-packages (from matplotlib>=3.3->osmnx) (7.0.0)\n",
            "Requirement already satisfied: pytz>=2017.2 in /usr/local/lib/python3.6/dist-packages (from pandas>=1.1->osmnx) (2018.9)\n",
            "Requirement already satisfied: decorator>=4.3.0 in /usr/local/lib/python3.6/dist-packages (from networkx>=2.5->osmnx) (4.4.2)\n",
            "Requirement already satisfied: setuptools in /usr/local/lib/python3.6/dist-packages (from Rtree>=0.9->osmnx) (50.3.2)\n",
            "Collecting fiona\n",
            "\u001b[?25l  Downloading https://files.pythonhosted.org/packages/36/8b/e8b2c11bed5373c8e98edb85ce891b09aa1f4210fd451d0fb3696b7695a2/Fiona-1.8.17-cp36-cp36m-manylinux1_x86_64.whl (14.8MB)\n",
            "\u001b[K     |████████████████████████████████| 14.8MB 313kB/s \n",
            "\u001b[?25hRequirement already satisfied: six in /usr/local/lib/python3.6/dist-packages (from cycler>=0.10->matplotlib>=3.3->osmnx) (1.15.0)\n",
            "Collecting munch\n",
            "  Downloading https://files.pythonhosted.org/packages/cc/ab/85d8da5c9a45e072301beb37ad7f833cd344e04c817d97e0cc75681d248f/munch-2.5.0-py2.py3-none-any.whl\n",
            "Requirement already satisfied: click<8,>=4.0 in /usr/local/lib/python3.6/dist-packages (from fiona->geopandas>=0.8->osmnx) (7.1.2)\n",
            "Requirement already satisfied: attrs>=17 in /usr/local/lib/python3.6/dist-packages (from fiona->geopandas>=0.8->osmnx) (20.2.0)\n",
            "Collecting cligj>=0.5\n",
            "  Downloading https://files.pythonhosted.org/packages/ba/06/e3440b1f2dc802d35f329f299ba96153e9fcbfdef75e17f4b61f79430c6a/cligj-0.7.0-py3-none-any.whl\n",
            "Collecting click-plugins>=1.0\n",
            "  Downloading https://files.pythonhosted.org/packages/e9/da/824b92d9942f4e472702488857914bdd50f73021efea15b4cad9aca8ecef/click_plugins-1.1.1-py2.py3-none-any.whl\n",
            "Building wheels for collected packages: Rtree\n",
            "  Building wheel for Rtree (setup.py) ... \u001b[?25l\u001b[?25hdone\n",
            "  Created wheel for Rtree: filename=Rtree-0.9.4-cp36-none-any.whl size=21767 sha256=360a489351e0fb3c2747beecf8c0bf45f4243e0e2c7719461281a7fa34fd1c4d\n",
            "  Stored in directory: /root/.cache/pip/wheels/ff/20/c5/0004ef7acb96745ec99be960053902b0b414a2aa2dcad5834e\n",
            "Successfully built Rtree\n",
            "\u001b[31mERROR: tensorflow 2.3.0 has requirement numpy<1.19.0,>=1.16.0, but you'll have numpy 1.19.3 which is incompatible.\u001b[0m\n",
            "\u001b[31mERROR: google-colab 1.0.0 has requirement requests~=2.23.0, but you'll have requests 2.24.0 which is incompatible.\u001b[0m\n",
            "\u001b[31mERROR: datascience 0.10.6 has requirement folium==0.2.1, but you'll have folium 0.8.3 which is incompatible.\u001b[0m\n",
            "\u001b[31mERROR: albumentations 0.1.12 has requirement imgaug<0.2.7,>=0.2.5, but you'll have imgaug 0.2.9 which is incompatible.\u001b[0m\n",
            "Installing collected packages: requests, numpy, matplotlib, Rtree, pyproj, munch, cligj, click-plugins, fiona, geopandas, osmnx\n",
            "  Found existing installation: requests 2.23.0\n",
            "    Uninstalling requests-2.23.0:\n",
            "      Successfully uninstalled requests-2.23.0\n",
            "  Found existing installation: numpy 1.18.5\n",
            "    Uninstalling numpy-1.18.5:\n",
            "      Successfully uninstalled numpy-1.18.5\n",
            "  Found existing installation: matplotlib 3.2.2\n",
            "    Uninstalling matplotlib-3.2.2:\n",
            "      Successfully uninstalled matplotlib-3.2.2\n",
            "Successfully installed Rtree-0.9.4 click-plugins-1.1.1 cligj-0.7.0 fiona-1.8.17 geopandas-0.8.1 matplotlib-3.3.2 munch-2.5.0 numpy-1.19.3 osmnx-0.16.1 pyproj-2.6.1.post1 requests-2.24.0\n"
          ],
          "name": "stdout"
        },
        {
          "output_type": "display_data",
          "data": {
            "application/vnd.colab-display-data+json": {
              "pip_warning": {
                "packages": [
                  "matplotlib",
                  "mpl_toolkits",
                  "numpy"
                ]
              }
            }
          },
          "metadata": {
            "tags": []
          }
        }
      ]
    },
    {
      "cell_type": "code",
      "metadata": {
        "id": "8smi2CiKk21V"
      },
      "source": [
        "import osmnx as ox\n",
        "import networkx as nx\n",
        "import pandas as pd\n",
        "import json\n",
        "import geopandas as gpd\n",
        "import numpy as np\n",
        "import matplotlib.pyplot as plt\n",
        "from accident import ACCIDENT"
      ],
      "execution_count": null,
      "outputs": []
    },
    {
      "cell_type": "code",
      "metadata": {
        "id": "o9LA_jCKmXCu"
      },
      "source": [
        "G = ox.graph_from_place('Toronto, Ontario, Canada', network_type='drive')"
      ],
      "execution_count": null,
      "outputs": []
    },
    {
      "cell_type": "code",
      "metadata": {
        "id": "CjD-XB5RmdD8"
      },
      "source": [
        "ox.plot_graph(G, bgcolor='white', node_size=1, node_color=\"red\", edge_linewidth=0.6, edge_alpha=1, dpi=1000, figsize=(20,20))"
      ],
      "execution_count": null,
      "outputs": []
    },
    {
      "cell_type": "code",
      "metadata": {
        "id": "YWepLdknxtdy"
      },
      "source": [
        "print(nx.info(G))"
      ],
      "execution_count": null,
      "outputs": []
    },
    {
      "cell_type": "code",
      "metadata": {
        "id": "-3_QbPdZER1F"
      },
      "source": [
        "edges =  list(G.edges.data())\n",
        "edges[160][2]"
      ],
      "execution_count": null,
      "outputs": []
    },
    {
      "cell_type": "code",
      "metadata": {
        "id": "emWQswCNFNyY"
      },
      "source": [
        "nodes =  list(G.nodes.data())"
      ],
      "execution_count": null,
      "outputs": []
    },
    {
      "cell_type": "markdown",
      "metadata": {
        "id": "0P3zy3yCwCrd"
      },
      "source": [
        "## KSI Dataset:"
      ]
    },
    {
      "cell_type": "code",
      "metadata": {
        "id": "a-zNsJPtbLZ6"
      },
      "source": [
        "ksi_df = gpd.read_file(\"https://opendata.arcgis.com/datasets/cc17cc27ee5a4989b78d9a3810c6c007_0.geojson\")"
      ],
      "execution_count": null,
      "outputs": []
    },
    {
      "cell_type": "code",
      "metadata": {
        "id": "enOLQkSgm8TQ",
        "outputId": "4a124405-805e-4ef6-af48-55400e9584fc",
        "colab": {
          "base_uri": "https://localhost:8080/",
          "height": 394
        }
      },
      "source": [
        "ksi_df.head()"
      ],
      "execution_count": null,
      "outputs": [
        {
          "output_type": "execute_result",
          "data": {
            "text/html": [
              "<div>\n",
              "<style scoped>\n",
              "    .dataframe tbody tr th:only-of-type {\n",
              "        vertical-align: middle;\n",
              "    }\n",
              "\n",
              "    .dataframe tbody tr th {\n",
              "        vertical-align: top;\n",
              "    }\n",
              "\n",
              "    .dataframe thead th {\n",
              "        text-align: right;\n",
              "    }\n",
              "</style>\n",
              "<table border=\"1\" class=\"dataframe\">\n",
              "  <thead>\n",
              "    <tr style=\"text-align: right;\">\n",
              "      <th></th>\n",
              "      <th>Index_</th>\n",
              "      <th>ACCNUM</th>\n",
              "      <th>YEAR</th>\n",
              "      <th>DATE</th>\n",
              "      <th>TIME</th>\n",
              "      <th>HOUR</th>\n",
              "      <th>STREET1</th>\n",
              "      <th>STREET2</th>\n",
              "      <th>OFFSET</th>\n",
              "      <th>ROAD_CLASS</th>\n",
              "      <th>District</th>\n",
              "      <th>WardNum</th>\n",
              "      <th>Division</th>\n",
              "      <th>LATITUDE</th>\n",
              "      <th>LONGITUDE</th>\n",
              "      <th>LOCCOORD</th>\n",
              "      <th>ACCLOC</th>\n",
              "      <th>TRAFFCTL</th>\n",
              "      <th>VISIBILITY</th>\n",
              "      <th>LIGHT</th>\n",
              "      <th>RDSFCOND</th>\n",
              "      <th>ACCLASS</th>\n",
              "      <th>IMPACTYPE</th>\n",
              "      <th>INVTYPE</th>\n",
              "      <th>INVAGE</th>\n",
              "      <th>INJURY</th>\n",
              "      <th>FATAL_NO</th>\n",
              "      <th>INITDIR</th>\n",
              "      <th>VEHTYPE</th>\n",
              "      <th>MANOEUVER</th>\n",
              "      <th>DRIVACT</th>\n",
              "      <th>DRIVCOND</th>\n",
              "      <th>PEDTYPE</th>\n",
              "      <th>PEDACT</th>\n",
              "      <th>PEDCOND</th>\n",
              "      <th>CYCLISTYPE</th>\n",
              "      <th>CYCACT</th>\n",
              "      <th>CYCCOND</th>\n",
              "      <th>PEDESTRIAN</th>\n",
              "      <th>CYCLIST</th>\n",
              "      <th>AUTOMOBILE</th>\n",
              "      <th>MOTORCYCLE</th>\n",
              "      <th>TRUCK</th>\n",
              "      <th>TRSN_CITY_VEH</th>\n",
              "      <th>EMERG_VEH</th>\n",
              "      <th>PASSENGER</th>\n",
              "      <th>SPEEDING</th>\n",
              "      <th>AG_DRIV</th>\n",
              "      <th>REDLIGHT</th>\n",
              "      <th>ALCOHOL</th>\n",
              "      <th>DISABILITY</th>\n",
              "      <th>Hood_ID</th>\n",
              "      <th>Neighbourhood</th>\n",
              "      <th>ObjectId</th>\n",
              "      <th>geometry</th>\n",
              "    </tr>\n",
              "  </thead>\n",
              "  <tbody>\n",
              "    <tr>\n",
              "      <th>0</th>\n",
              "      <td>3389067</td>\n",
              "      <td>893184</td>\n",
              "      <td>2006</td>\n",
              "      <td>2006-01-01T05:00:00+00:00</td>\n",
              "      <td>236</td>\n",
              "      <td>2</td>\n",
              "      <td>WOODBINE AVE</td>\n",
              "      <td>O CONNOR DR</td>\n",
              "      <td>None</td>\n",
              "      <td>Major Arterial</td>\n",
              "      <td>Toronto and East York</td>\n",
              "      <td>19.0</td>\n",
              "      <td>54</td>\n",
              "      <td>43.699595</td>\n",
              "      <td>-79.318797</td>\n",
              "      <td>Intersection</td>\n",
              "      <td>Intersection Related</td>\n",
              "      <td>No Control</td>\n",
              "      <td>Clear</td>\n",
              "      <td>Dark</td>\n",
              "      <td>Wet</td>\n",
              "      <td>Non-Fatal Injury</td>\n",
              "      <td>Approaching</td>\n",
              "      <td>Passenger</td>\n",
              "      <td>50 to 54</td>\n",
              "      <td>Major</td>\n",
              "      <td>None</td>\n",
              "      <td>None</td>\n",
              "      <td>None</td>\n",
              "      <td>None</td>\n",
              "      <td>None</td>\n",
              "      <td>None</td>\n",
              "      <td>None</td>\n",
              "      <td>None</td>\n",
              "      <td>None</td>\n",
              "      <td>None</td>\n",
              "      <td>None</td>\n",
              "      <td>None</td>\n",
              "      <td>None</td>\n",
              "      <td>None</td>\n",
              "      <td>Yes</td>\n",
              "      <td>None</td>\n",
              "      <td>None</td>\n",
              "      <td>None</td>\n",
              "      <td>None</td>\n",
              "      <td>Yes</td>\n",
              "      <td>Yes</td>\n",
              "      <td>Yes</td>\n",
              "      <td>None</td>\n",
              "      <td>Yes</td>\n",
              "      <td>None</td>\n",
              "      <td>60</td>\n",
              "      <td>Woodbine-Lumsden (60)</td>\n",
              "      <td>1</td>\n",
              "      <td>POINT (-79.31880 43.69960)</td>\n",
              "    </tr>\n",
              "    <tr>\n",
              "      <th>1</th>\n",
              "      <td>3389068</td>\n",
              "      <td>893184</td>\n",
              "      <td>2006</td>\n",
              "      <td>2006-01-01T05:00:00+00:00</td>\n",
              "      <td>236</td>\n",
              "      <td>2</td>\n",
              "      <td>WOODBINE AVE</td>\n",
              "      <td>O CONNOR DR</td>\n",
              "      <td>None</td>\n",
              "      <td>Major Arterial</td>\n",
              "      <td>Toronto and East York</td>\n",
              "      <td>19.0</td>\n",
              "      <td>54</td>\n",
              "      <td>43.699595</td>\n",
              "      <td>-79.318797</td>\n",
              "      <td>Intersection</td>\n",
              "      <td>Intersection Related</td>\n",
              "      <td>No Control</td>\n",
              "      <td>Clear</td>\n",
              "      <td>Dark</td>\n",
              "      <td>Wet</td>\n",
              "      <td>Non-Fatal Injury</td>\n",
              "      <td>Approaching</td>\n",
              "      <td>Passenger</td>\n",
              "      <td>15 to 19</td>\n",
              "      <td>Minor</td>\n",
              "      <td>None</td>\n",
              "      <td>None</td>\n",
              "      <td>None</td>\n",
              "      <td>None</td>\n",
              "      <td>None</td>\n",
              "      <td>None</td>\n",
              "      <td>None</td>\n",
              "      <td>None</td>\n",
              "      <td>None</td>\n",
              "      <td>None</td>\n",
              "      <td>None</td>\n",
              "      <td>None</td>\n",
              "      <td>None</td>\n",
              "      <td>None</td>\n",
              "      <td>Yes</td>\n",
              "      <td>None</td>\n",
              "      <td>None</td>\n",
              "      <td>None</td>\n",
              "      <td>None</td>\n",
              "      <td>Yes</td>\n",
              "      <td>Yes</td>\n",
              "      <td>Yes</td>\n",
              "      <td>None</td>\n",
              "      <td>Yes</td>\n",
              "      <td>None</td>\n",
              "      <td>60</td>\n",
              "      <td>Woodbine-Lumsden (60)</td>\n",
              "      <td>2</td>\n",
              "      <td>POINT (-79.31880 43.69960)</td>\n",
              "    </tr>\n",
              "    <tr>\n",
              "      <th>2</th>\n",
              "      <td>3389069</td>\n",
              "      <td>893184</td>\n",
              "      <td>2006</td>\n",
              "      <td>2006-01-01T05:00:00+00:00</td>\n",
              "      <td>236</td>\n",
              "      <td>2</td>\n",
              "      <td>WOODBINE AVE</td>\n",
              "      <td>O CONNOR DR</td>\n",
              "      <td>None</td>\n",
              "      <td>Major Arterial</td>\n",
              "      <td>Toronto and East York</td>\n",
              "      <td>19.0</td>\n",
              "      <td>54</td>\n",
              "      <td>43.699595</td>\n",
              "      <td>-79.318797</td>\n",
              "      <td>Intersection</td>\n",
              "      <td>Intersection Related</td>\n",
              "      <td>No Control</td>\n",
              "      <td>Clear</td>\n",
              "      <td>Dark</td>\n",
              "      <td>Wet</td>\n",
              "      <td>Non-Fatal Injury</td>\n",
              "      <td>Approaching</td>\n",
              "      <td>Driver</td>\n",
              "      <td>55 to 59</td>\n",
              "      <td>Minor</td>\n",
              "      <td>None</td>\n",
              "      <td>North</td>\n",
              "      <td>Automobile, Station Wagon</td>\n",
              "      <td>Going Ahead</td>\n",
              "      <td>Driving Properly</td>\n",
              "      <td>Normal</td>\n",
              "      <td>None</td>\n",
              "      <td>None</td>\n",
              "      <td>None</td>\n",
              "      <td>None</td>\n",
              "      <td>None</td>\n",
              "      <td>None</td>\n",
              "      <td>None</td>\n",
              "      <td>None</td>\n",
              "      <td>Yes</td>\n",
              "      <td>None</td>\n",
              "      <td>None</td>\n",
              "      <td>None</td>\n",
              "      <td>None</td>\n",
              "      <td>Yes</td>\n",
              "      <td>Yes</td>\n",
              "      <td>Yes</td>\n",
              "      <td>None</td>\n",
              "      <td>Yes</td>\n",
              "      <td>None</td>\n",
              "      <td>60</td>\n",
              "      <td>Woodbine-Lumsden (60)</td>\n",
              "      <td>3</td>\n",
              "      <td>POINT (-79.31880 43.69960)</td>\n",
              "    </tr>\n",
              "    <tr>\n",
              "      <th>3</th>\n",
              "      <td>3389070</td>\n",
              "      <td>893184</td>\n",
              "      <td>2006</td>\n",
              "      <td>2006-01-01T05:00:00+00:00</td>\n",
              "      <td>236</td>\n",
              "      <td>2</td>\n",
              "      <td>WOODBINE AVE</td>\n",
              "      <td>O CONNOR DR</td>\n",
              "      <td>None</td>\n",
              "      <td>Major Arterial</td>\n",
              "      <td>Toronto and East York</td>\n",
              "      <td>19.0</td>\n",
              "      <td>54</td>\n",
              "      <td>43.699595</td>\n",
              "      <td>-79.318797</td>\n",
              "      <td>Intersection</td>\n",
              "      <td>Intersection Related</td>\n",
              "      <td>No Control</td>\n",
              "      <td>Clear</td>\n",
              "      <td>Dark</td>\n",
              "      <td>Wet</td>\n",
              "      <td>Non-Fatal Injury</td>\n",
              "      <td>Approaching</td>\n",
              "      <td>Passenger</td>\n",
              "      <td>20 to 24</td>\n",
              "      <td>Minor</td>\n",
              "      <td>None</td>\n",
              "      <td>None</td>\n",
              "      <td>None</td>\n",
              "      <td>None</td>\n",
              "      <td>None</td>\n",
              "      <td>None</td>\n",
              "      <td>None</td>\n",
              "      <td>None</td>\n",
              "      <td>None</td>\n",
              "      <td>None</td>\n",
              "      <td>None</td>\n",
              "      <td>None</td>\n",
              "      <td>None</td>\n",
              "      <td>None</td>\n",
              "      <td>Yes</td>\n",
              "      <td>None</td>\n",
              "      <td>None</td>\n",
              "      <td>None</td>\n",
              "      <td>None</td>\n",
              "      <td>Yes</td>\n",
              "      <td>Yes</td>\n",
              "      <td>Yes</td>\n",
              "      <td>None</td>\n",
              "      <td>Yes</td>\n",
              "      <td>None</td>\n",
              "      <td>60</td>\n",
              "      <td>Woodbine-Lumsden (60)</td>\n",
              "      <td>4</td>\n",
              "      <td>POINT (-79.31880 43.69960)</td>\n",
              "    </tr>\n",
              "    <tr>\n",
              "      <th>4</th>\n",
              "      <td>3389071</td>\n",
              "      <td>893184</td>\n",
              "      <td>2006</td>\n",
              "      <td>2006-01-01T05:00:00+00:00</td>\n",
              "      <td>236</td>\n",
              "      <td>2</td>\n",
              "      <td>WOODBINE AVE</td>\n",
              "      <td>O CONNOR DR</td>\n",
              "      <td>None</td>\n",
              "      <td>Major Arterial</td>\n",
              "      <td>Toronto and East York</td>\n",
              "      <td>19.0</td>\n",
              "      <td>54</td>\n",
              "      <td>43.699595</td>\n",
              "      <td>-79.318797</td>\n",
              "      <td>Intersection</td>\n",
              "      <td>Intersection Related</td>\n",
              "      <td>No Control</td>\n",
              "      <td>Clear</td>\n",
              "      <td>Dark</td>\n",
              "      <td>Wet</td>\n",
              "      <td>Non-Fatal Injury</td>\n",
              "      <td>Approaching</td>\n",
              "      <td>Passenger</td>\n",
              "      <td>15 to 19</td>\n",
              "      <td>Minor</td>\n",
              "      <td>None</td>\n",
              "      <td>None</td>\n",
              "      <td>None</td>\n",
              "      <td>None</td>\n",
              "      <td>None</td>\n",
              "      <td>None</td>\n",
              "      <td>None</td>\n",
              "      <td>None</td>\n",
              "      <td>None</td>\n",
              "      <td>None</td>\n",
              "      <td>None</td>\n",
              "      <td>None</td>\n",
              "      <td>None</td>\n",
              "      <td>None</td>\n",
              "      <td>Yes</td>\n",
              "      <td>None</td>\n",
              "      <td>None</td>\n",
              "      <td>None</td>\n",
              "      <td>None</td>\n",
              "      <td>Yes</td>\n",
              "      <td>Yes</td>\n",
              "      <td>Yes</td>\n",
              "      <td>None</td>\n",
              "      <td>Yes</td>\n",
              "      <td>None</td>\n",
              "      <td>60</td>\n",
              "      <td>Woodbine-Lumsden (60)</td>\n",
              "      <td>5</td>\n",
              "      <td>POINT (-79.31880 43.69960)</td>\n",
              "    </tr>\n",
              "  </tbody>\n",
              "</table>\n",
              "</div>"
            ],
            "text/plain": [
              "    Index_  ACCNUM  ...  ObjectId                    geometry\n",
              "0  3389067  893184  ...         1  POINT (-79.31880 43.69960)\n",
              "1  3389068  893184  ...         2  POINT (-79.31880 43.69960)\n",
              "2  3389069  893184  ...         3  POINT (-79.31880 43.69960)\n",
              "3  3389070  893184  ...         4  POINT (-79.31880 43.69960)\n",
              "4  3389071  893184  ...         5  POINT (-79.31880 43.69960)\n",
              "\n",
              "[5 rows x 55 columns]"
            ]
          },
          "metadata": {
            "tags": []
          },
          "execution_count": 51
        }
      ]
    },
    {
      "cell_type": "markdown",
      "metadata": {
        "id": "OwCzEL2uFKMN"
      },
      "source": [
        "Combining Date and Hour to have one single column:"
      ]
    },
    {
      "cell_type": "code",
      "metadata": {
        "id": "9A-kthgDpe8J"
      },
      "source": [
        "ksi_df[\"DATE\"] = pd.to_datetime(ksi_df['DATE']).dt.floor(\"D\") + pd.to_timedelta(ksi_df[\"HOUR\"], unit=\"hour\")"
      ],
      "execution_count": null,
      "outputs": []
    },
    {
      "cell_type": "markdown",
      "metadata": {
        "id": "5p9VQ-IDFG9V"
      },
      "source": [
        "Add datapoints to keep here:"
      ]
    },
    {
      "cell_type": "code",
      "metadata": {
        "id": "CMklmqGwCQae"
      },
      "source": [
        "cols_to_keep = [\"LATITUDE\", \"LONGITUDE\", \"ACCNUM\", \"DATE\", \"VISIBILITY\", \"LIGHT\",\t\"RDSFCOND\"]\n",
        "ksi_df = ksi_df[cols_to_keep]"
      ],
      "execution_count": null,
      "outputs": []
    },
    {
      "cell_type": "markdown",
      "metadata": {
        "id": "ao8F1hV7FSlT"
      },
      "source": [
        "Counting fatalities using duplicate rows:"
      ]
    },
    {
      "cell_type": "code",
      "metadata": {
        "id": "_1UWcVfNAXIy"
      },
      "source": [
        "fatalities = ksi_df[\"ACCNUM\"].value_counts()\n",
        "ksi_df[\"FATALITIES\"] = ksi_df[\"ACCNUM\"].apply(lambda x : fatalities[x])"
      ],
      "execution_count": null,
      "outputs": []
    },
    {
      "cell_type": "code",
      "metadata": {
        "id": "N8aDYqZGBmno"
      },
      "source": [
        "ksi_df = ksi_df.drop_duplicates()\n",
        "ksi_df.reset_index(drop=True, inplace=True)"
      ],
      "execution_count": null,
      "outputs": []
    },
    {
      "cell_type": "code",
      "metadata": {
        "id": "HsyKXWFIvUT0"
      },
      "source": [
        "ksi_df[\"G_NODE\"]= ox.get_nearest_nodes(G, ksi_df[\"LONGITUDE\"], ksi_df[\"LATITUDE\"])\n",
        "ksi_df.drop([\"LATITUDE\", \"LONGITUDE\"], axis=1, inplace=True)"
      ],
      "execution_count": null,
      "outputs": []
    },
    {
      "cell_type": "code",
      "metadata": {
        "id": "k1K4Xnd0CI7q",
        "outputId": "6fbcbfbd-af75-4fa9-d3ad-ddb66d5d044a",
        "colab": {
          "base_uri": "https://localhost:8080/",
          "height": 419
        }
      },
      "source": [
        "ksi_df = ksi_df.infer_objects()\n",
        "ksi_df"
      ],
      "execution_count": null,
      "outputs": [
        {
          "output_type": "execute_result",
          "data": {
            "text/html": [
              "<div>\n",
              "<style scoped>\n",
              "    .dataframe tbody tr th:only-of-type {\n",
              "        vertical-align: middle;\n",
              "    }\n",
              "\n",
              "    .dataframe tbody tr th {\n",
              "        vertical-align: top;\n",
              "    }\n",
              "\n",
              "    .dataframe thead th {\n",
              "        text-align: right;\n",
              "    }\n",
              "</style>\n",
              "<table border=\"1\" class=\"dataframe\">\n",
              "  <thead>\n",
              "    <tr style=\"text-align: right;\">\n",
              "      <th></th>\n",
              "      <th>ACCNUM</th>\n",
              "      <th>DATE</th>\n",
              "      <th>VISIBILITY</th>\n",
              "      <th>LIGHT</th>\n",
              "      <th>RDSFCOND</th>\n",
              "      <th>FATALITIES</th>\n",
              "      <th>G_NODE</th>\n",
              "    </tr>\n",
              "  </thead>\n",
              "  <tbody>\n",
              "    <tr>\n",
              "      <th>0</th>\n",
              "      <td>893184</td>\n",
              "      <td>2006-01-01 02:00:00+00:00</td>\n",
              "      <td>Clear</td>\n",
              "      <td>Dark</td>\n",
              "      <td>Wet</td>\n",
              "      <td>8</td>\n",
              "      <td>299173325</td>\n",
              "    </tr>\n",
              "    <tr>\n",
              "      <th>1</th>\n",
              "      <td>909646</td>\n",
              "      <td>2006-01-01 03:00:00+00:00</td>\n",
              "      <td>Snow</td>\n",
              "      <td>Dark, artificial</td>\n",
              "      <td>Slush</td>\n",
              "      <td>5</td>\n",
              "      <td>299173325</td>\n",
              "    </tr>\n",
              "    <tr>\n",
              "      <th>2</th>\n",
              "      <td>884090</td>\n",
              "      <td>2006-01-02 07:00:00+00:00</td>\n",
              "      <td>Other</td>\n",
              "      <td>Dark, artificial</td>\n",
              "      <td>Wet</td>\n",
              "      <td>2</td>\n",
              "      <td>299173325</td>\n",
              "    </tr>\n",
              "    <tr>\n",
              "      <th>3</th>\n",
              "      <td>885782</td>\n",
              "      <td>2006-01-04 19:00:00+00:00</td>\n",
              "      <td>Rain</td>\n",
              "      <td>Dark</td>\n",
              "      <td>Wet</td>\n",
              "      <td>2</td>\n",
              "      <td>299173325</td>\n",
              "    </tr>\n",
              "    <tr>\n",
              "      <th>4</th>\n",
              "      <td>882079</td>\n",
              "      <td>2006-01-06 22:00:00+00:00</td>\n",
              "      <td>Clear</td>\n",
              "      <td>Dark, artificial</td>\n",
              "      <td>Dry</td>\n",
              "      <td>2</td>\n",
              "      <td>299173325</td>\n",
              "    </tr>\n",
              "    <tr>\n",
              "      <th>...</th>\n",
              "      <td>...</td>\n",
              "      <td>...</td>\n",
              "      <td>...</td>\n",
              "      <td>...</td>\n",
              "      <td>...</td>\n",
              "      <td>...</td>\n",
              "      <td>...</td>\n",
              "    </tr>\n",
              "    <tr>\n",
              "      <th>5685</th>\n",
              "      <td>9002468442</td>\n",
              "      <td>2019-12-23 06:00:00+00:00</td>\n",
              "      <td>Clear</td>\n",
              "      <td>Dawn</td>\n",
              "      <td>Wet</td>\n",
              "      <td>2</td>\n",
              "      <td>299173325</td>\n",
              "    </tr>\n",
              "    <tr>\n",
              "      <th>5686</th>\n",
              "      <td>9002471073</td>\n",
              "      <td>2019-12-23 14:00:00+00:00</td>\n",
              "      <td>Clear</td>\n",
              "      <td>Daylight</td>\n",
              "      <td>Dry</td>\n",
              "      <td>3</td>\n",
              "      <td>299173325</td>\n",
              "    </tr>\n",
              "    <tr>\n",
              "      <th>5687</th>\n",
              "      <td>9002481518</td>\n",
              "      <td>2019-12-25 08:00:00+00:00</td>\n",
              "      <td>Clear</td>\n",
              "      <td>Daylight</td>\n",
              "      <td>Wet</td>\n",
              "      <td>2</td>\n",
              "      <td>299173325</td>\n",
              "    </tr>\n",
              "    <tr>\n",
              "      <th>5688</th>\n",
              "      <td>9002496688</td>\n",
              "      <td>2019-12-27 23:00:00+00:00</td>\n",
              "      <td>Clear</td>\n",
              "      <td>Dark, artificial</td>\n",
              "      <td>Dry</td>\n",
              "      <td>2</td>\n",
              "      <td>299173325</td>\n",
              "    </tr>\n",
              "    <tr>\n",
              "      <th>5689</th>\n",
              "      <td>9002500260</td>\n",
              "      <td>2019-12-28 15:00:00+00:00</td>\n",
              "      <td>Clear</td>\n",
              "      <td>Daylight</td>\n",
              "      <td>Dry</td>\n",
              "      <td>3</td>\n",
              "      <td>299173325</td>\n",
              "    </tr>\n",
              "  </tbody>\n",
              "</table>\n",
              "<p>5690 rows × 7 columns</p>\n",
              "</div>"
            ],
            "text/plain": [
              "          ACCNUM                      DATE  ... FATALITIES     G_NODE\n",
              "0         893184 2006-01-01 02:00:00+00:00  ...          8  299173325\n",
              "1         909646 2006-01-01 03:00:00+00:00  ...          5  299173325\n",
              "2         884090 2006-01-02 07:00:00+00:00  ...          2  299173325\n",
              "3         885782 2006-01-04 19:00:00+00:00  ...          2  299173325\n",
              "4         882079 2006-01-06 22:00:00+00:00  ...          2  299173325\n",
              "...          ...                       ...  ...        ...        ...\n",
              "5685  9002468442 2019-12-23 06:00:00+00:00  ...          2  299173325\n",
              "5686  9002471073 2019-12-23 14:00:00+00:00  ...          3  299173325\n",
              "5687  9002481518 2019-12-25 08:00:00+00:00  ...          2  299173325\n",
              "5688  9002496688 2019-12-27 23:00:00+00:00  ...          2  299173325\n",
              "5689  9002500260 2019-12-28 15:00:00+00:00  ...          3  299173325\n",
              "\n",
              "[5690 rows x 7 columns]"
            ]
          },
          "metadata": {
            "tags": []
          },
          "execution_count": 64
        }
      ]
    },
    {
      "cell_type": "markdown",
      "metadata": {
        "id": "MP0Hasxjc8A_"
      },
      "source": [
        "Creating column of accident objects:"
      ]
    },
    {
      "cell_type": "code",
      "metadata": {
        "id": "Kop4Cr22OxAU"
      },
      "source": [
        "ksi_df[\"ACCIDENT\"] = ksi_df.apply(lambda x: ACCIDENT(x[\"ACCNUM\"], x[\"DATE\"], x[\"VISIBILITY\"], x[\"LIGHT\"], x[\"RDSFCOND\"], x[\"FATALITIES\"]), axis=1)"
      ],
      "execution_count": null,
      "outputs": []
    },
    {
      "cell_type": "code",
      "metadata": {
        "id": "1X8Dc1BFXz3v"
      },
      "source": [
        "ksi_df"
      ],
      "execution_count": null,
      "outputs": []
    },
    {
      "cell_type": "markdown",
      "metadata": {
        "id": "zipY_xMjdFsh"
      },
      "source": [
        "Collapsing dataset to get list of accidents for each node:"
      ]
    },
    {
      "cell_type": "code",
      "metadata": {
        "id": "zGzESGyQZnMk"
      },
      "source": [
        "ksi_df = ksi_df.groupby('G_NODE')['ACCIDENT'].apply(list).reset_index(name='ACCIDENTS')"
      ],
      "execution_count": null,
      "outputs": []
    },
    {
      "cell_type": "code",
      "metadata": {
        "id": "4AC4QBfBakc7"
      },
      "source": [
        "ksi_df"
      ],
      "execution_count": null,
      "outputs": []
    },
    {
      "cell_type": "markdown",
      "metadata": {
        "id": "D9qTGMzQdLsN"
      },
      "source": [
        "Converting dataset to dict to set node attributes:"
      ]
    },
    {
      "cell_type": "code",
      "metadata": {
        "id": "UvwTbNXGbbVX"
      },
      "source": [
        "attr = ksi_df.set_index('G_NODE')['ACCIDENTS'].to_dict()"
      ],
      "execution_count": null,
      "outputs": []
    },
    {
      "cell_type": "code",
      "metadata": {
        "id": "9MwUwxLSTuCL"
      },
      "source": [
        "nx.set_node_attributes(G, [], \"accident_list\")\n",
        "nx.set_node_attributes(G, attr, \"accident_list\")"
      ],
      "execution_count": null,
      "outputs": []
    },
    {
      "cell_type": "markdown",
      "metadata": {
        "id": "WOpmgeJSd2lI"
      },
      "source": [
        "Example Nodes:"
      ]
    },
    {
      "cell_type": "code",
      "metadata": {
        "id": "RgjrVChKVyGL"
      },
      "source": [
        "G.nodes[1497793]"
      ],
      "execution_count": null,
      "outputs": []
    },
    {
      "cell_type": "code",
      "metadata": {
        "id": "YPaDipvDdxWy"
      },
      "source": [
        "G.nodes[158754118]"
      ],
      "execution_count": null,
      "outputs": []
    }
  ]
}